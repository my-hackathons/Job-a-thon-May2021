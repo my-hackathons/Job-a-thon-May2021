{
 "cells": [
  {
   "cell_type": "code",
   "execution_count": 1,
   "id": "29c0ff02-c7d0-43fe-9453-0d5e4482cca5",
   "metadata": {},
   "outputs": [],
   "source": [
    "import pandas as pd\n",
    "import numpy as np\n",
    "\n",
    "import warnings\n",
    "warnings.filterwarnings('ignore')"
   ]
  },
  {
   "cell_type": "markdown",
   "id": "27291490-c405-4f52-8fb7-69cc5c62e190",
   "metadata": {},
   "source": [
    "## 0. Load Files"
   ]
  },
  {
   "cell_type": "code",
   "execution_count": 2,
   "id": "25c95dfb-ba5d-4f1b-948e-96cbe533f66f",
   "metadata": {},
   "outputs": [],
   "source": [
    "# Load Train & Test files\n",
    "train = pd.read_csv(\"./data/train-file.csv\")\n",
    "test = pd.read_csv(\"./data/test-file.csv\")\n",
    "sample = pd.read_csv(\"./data/sample-submission.csv\")"
   ]
  },
  {
   "cell_type": "code",
   "execution_count": 3,
   "id": "e7bfb7d6-176a-44f8-831c-1bc426e3da21",
   "metadata": {},
   "outputs": [
    {
     "data": {
      "text/html": [
       "<div>\n",
       "<style scoped>\n",
       "    .dataframe tbody tr th:only-of-type {\n",
       "        vertical-align: middle;\n",
       "    }\n",
       "\n",
       "    .dataframe tbody tr th {\n",
       "        vertical-align: top;\n",
       "    }\n",
       "\n",
       "    .dataframe thead th {\n",
       "        text-align: right;\n",
       "    }\n",
       "</style>\n",
       "<table border=\"1\" class=\"dataframe\">\n",
       "  <thead>\n",
       "    <tr style=\"text-align: right;\">\n",
       "      <th></th>\n",
       "      <th>ID</th>\n",
       "      <th>Is_Lead</th>\n",
       "    </tr>\n",
       "  </thead>\n",
       "  <tbody>\n",
       "    <tr>\n",
       "      <th>0</th>\n",
       "      <td>VBENBARO</td>\n",
       "      <td>0</td>\n",
       "    </tr>\n",
       "    <tr>\n",
       "      <th>1</th>\n",
       "      <td>CCMEWNKY</td>\n",
       "      <td>0</td>\n",
       "    </tr>\n",
       "    <tr>\n",
       "      <th>2</th>\n",
       "      <td>VK3KGA9M</td>\n",
       "      <td>0</td>\n",
       "    </tr>\n",
       "    <tr>\n",
       "      <th>3</th>\n",
       "      <td>TT8RPZVC</td>\n",
       "      <td>0</td>\n",
       "    </tr>\n",
       "    <tr>\n",
       "      <th>4</th>\n",
       "      <td>SHQZEYTZ</td>\n",
       "      <td>0</td>\n",
       "    </tr>\n",
       "  </tbody>\n",
       "</table>\n",
       "</div>"
      ],
      "text/plain": [
       "         ID  Is_Lead\n",
       "0  VBENBARO        0\n",
       "1  CCMEWNKY        0\n",
       "2  VK3KGA9M        0\n",
       "3  TT8RPZVC        0\n",
       "4  SHQZEYTZ        0"
      ]
     },
     "execution_count": 3,
     "metadata": {},
     "output_type": "execute_result"
    }
   ],
   "source": [
    "sample.head()"
   ]
  },
  {
   "cell_type": "code",
   "execution_count": 4,
   "id": "80facee7-cf23-4bb7-837a-ceb5504854d6",
   "metadata": {},
   "outputs": [
    {
     "data": {
      "text/html": [
       "<div>\n",
       "<style scoped>\n",
       "    .dataframe tbody tr th:only-of-type {\n",
       "        vertical-align: middle;\n",
       "    }\n",
       "\n",
       "    .dataframe tbody tr th {\n",
       "        vertical-align: top;\n",
       "    }\n",
       "\n",
       "    .dataframe thead th {\n",
       "        text-align: right;\n",
       "    }\n",
       "</style>\n",
       "<table border=\"1\" class=\"dataframe\">\n",
       "  <thead>\n",
       "    <tr style=\"text-align: right;\">\n",
       "      <th></th>\n",
       "      <th>ID</th>\n",
       "      <th>Gender</th>\n",
       "      <th>Age</th>\n",
       "      <th>Region_Code</th>\n",
       "      <th>Occupation</th>\n",
       "      <th>Channel_Code</th>\n",
       "      <th>Vintage</th>\n",
       "      <th>Credit_Product</th>\n",
       "      <th>Avg_Account_Balance</th>\n",
       "      <th>Is_Active</th>\n",
       "      <th>Is_Lead</th>\n",
       "    </tr>\n",
       "  </thead>\n",
       "  <tbody>\n",
       "    <tr>\n",
       "      <th>0</th>\n",
       "      <td>NNVBBKZB</td>\n",
       "      <td>Female</td>\n",
       "      <td>73</td>\n",
       "      <td>RG268</td>\n",
       "      <td>Other</td>\n",
       "      <td>X3</td>\n",
       "      <td>43</td>\n",
       "      <td>No</td>\n",
       "      <td>1045696</td>\n",
       "      <td>No</td>\n",
       "      <td>0</td>\n",
       "    </tr>\n",
       "    <tr>\n",
       "      <th>1</th>\n",
       "      <td>IDD62UNG</td>\n",
       "      <td>Female</td>\n",
       "      <td>30</td>\n",
       "      <td>RG277</td>\n",
       "      <td>Salaried</td>\n",
       "      <td>X1</td>\n",
       "      <td>32</td>\n",
       "      <td>No</td>\n",
       "      <td>581988</td>\n",
       "      <td>No</td>\n",
       "      <td>0</td>\n",
       "    </tr>\n",
       "    <tr>\n",
       "      <th>2</th>\n",
       "      <td>HD3DSEMC</td>\n",
       "      <td>Female</td>\n",
       "      <td>56</td>\n",
       "      <td>RG268</td>\n",
       "      <td>Self_Employed</td>\n",
       "      <td>X3</td>\n",
       "      <td>26</td>\n",
       "      <td>No</td>\n",
       "      <td>1484315</td>\n",
       "      <td>Yes</td>\n",
       "      <td>0</td>\n",
       "    </tr>\n",
       "    <tr>\n",
       "      <th>3</th>\n",
       "      <td>BF3NC7KV</td>\n",
       "      <td>Male</td>\n",
       "      <td>34</td>\n",
       "      <td>RG270</td>\n",
       "      <td>Salaried</td>\n",
       "      <td>X1</td>\n",
       "      <td>19</td>\n",
       "      <td>No</td>\n",
       "      <td>470454</td>\n",
       "      <td>No</td>\n",
       "      <td>0</td>\n",
       "    </tr>\n",
       "    <tr>\n",
       "      <th>4</th>\n",
       "      <td>TEASRWXV</td>\n",
       "      <td>Female</td>\n",
       "      <td>30</td>\n",
       "      <td>RG282</td>\n",
       "      <td>Salaried</td>\n",
       "      <td>X1</td>\n",
       "      <td>33</td>\n",
       "      <td>No</td>\n",
       "      <td>886787</td>\n",
       "      <td>No</td>\n",
       "      <td>0</td>\n",
       "    </tr>\n",
       "  </tbody>\n",
       "</table>\n",
       "</div>"
      ],
      "text/plain": [
       "         ID  Gender  Age Region_Code     Occupation Channel_Code  Vintage  \\\n",
       "0  NNVBBKZB  Female   73       RG268          Other           X3       43   \n",
       "1  IDD62UNG  Female   30       RG277       Salaried           X1       32   \n",
       "2  HD3DSEMC  Female   56       RG268  Self_Employed           X3       26   \n",
       "3  BF3NC7KV    Male   34       RG270       Salaried           X1       19   \n",
       "4  TEASRWXV  Female   30       RG282       Salaried           X1       33   \n",
       "\n",
       "  Credit_Product  Avg_Account_Balance Is_Active  Is_Lead  \n",
       "0             No              1045696        No        0  \n",
       "1             No               581988        No        0  \n",
       "2             No              1484315       Yes        0  \n",
       "3             No               470454        No        0  \n",
       "4             No               886787        No        0  "
      ]
     },
     "execution_count": 4,
     "metadata": {},
     "output_type": "execute_result"
    }
   ],
   "source": [
    "# Check Train file\n",
    "train.head()"
   ]
  },
  {
   "cell_type": "code",
   "execution_count": 5,
   "id": "546b8419-e712-4566-8384-fa8316e5a3ef",
   "metadata": {},
   "outputs": [
    {
     "name": "stdout",
     "output_type": "stream",
     "text": [
      "<class 'pandas.core.frame.DataFrame'>\n",
      "RangeIndex: 245725 entries, 0 to 245724\n",
      "Data columns (total 11 columns):\n",
      " #   Column               Non-Null Count   Dtype \n",
      "---  ------               --------------   ----- \n",
      " 0   ID                   245725 non-null  object\n",
      " 1   Gender               245725 non-null  object\n",
      " 2   Age                  245725 non-null  int64 \n",
      " 3   Region_Code          245725 non-null  object\n",
      " 4   Occupation           245725 non-null  object\n",
      " 5   Channel_Code         245725 non-null  object\n",
      " 6   Vintage              245725 non-null  int64 \n",
      " 7   Credit_Product       216400 non-null  object\n",
      " 8   Avg_Account_Balance  245725 non-null  int64 \n",
      " 9   Is_Active            245725 non-null  object\n",
      " 10  Is_Lead              245725 non-null  int64 \n",
      "dtypes: int64(4), object(7)\n",
      "memory usage: 20.6+ MB\n"
     ]
    }
   ],
   "source": [
    "train.info()"
   ]
  },
  {
   "cell_type": "code",
   "execution_count": 6,
   "id": "5301df90-9934-4f63-9704-2aa151298ca5",
   "metadata": {},
   "outputs": [
    {
     "data": {
      "text/html": [
       "<div>\n",
       "<style scoped>\n",
       "    .dataframe tbody tr th:only-of-type {\n",
       "        vertical-align: middle;\n",
       "    }\n",
       "\n",
       "    .dataframe tbody tr th {\n",
       "        vertical-align: top;\n",
       "    }\n",
       "\n",
       "    .dataframe thead th {\n",
       "        text-align: right;\n",
       "    }\n",
       "</style>\n",
       "<table border=\"1\" class=\"dataframe\">\n",
       "  <thead>\n",
       "    <tr style=\"text-align: right;\">\n",
       "      <th></th>\n",
       "      <th>Age</th>\n",
       "      <th>Vintage</th>\n",
       "      <th>Avg_Account_Balance</th>\n",
       "      <th>Is_Lead</th>\n",
       "    </tr>\n",
       "  </thead>\n",
       "  <tbody>\n",
       "    <tr>\n",
       "      <th>count</th>\n",
       "      <td>245725.000000</td>\n",
       "      <td>245725.000000</td>\n",
       "      <td>2.457250e+05</td>\n",
       "      <td>245725.000000</td>\n",
       "    </tr>\n",
       "    <tr>\n",
       "      <th>mean</th>\n",
       "      <td>43.856307</td>\n",
       "      <td>46.959141</td>\n",
       "      <td>1.128403e+06</td>\n",
       "      <td>0.237208</td>\n",
       "    </tr>\n",
       "    <tr>\n",
       "      <th>std</th>\n",
       "      <td>14.828672</td>\n",
       "      <td>32.353136</td>\n",
       "      <td>8.529364e+05</td>\n",
       "      <td>0.425372</td>\n",
       "    </tr>\n",
       "    <tr>\n",
       "      <th>min</th>\n",
       "      <td>23.000000</td>\n",
       "      <td>7.000000</td>\n",
       "      <td>2.079000e+04</td>\n",
       "      <td>0.000000</td>\n",
       "    </tr>\n",
       "    <tr>\n",
       "      <th>25%</th>\n",
       "      <td>30.000000</td>\n",
       "      <td>20.000000</td>\n",
       "      <td>6.043100e+05</td>\n",
       "      <td>0.000000</td>\n",
       "    </tr>\n",
       "    <tr>\n",
       "      <th>50%</th>\n",
       "      <td>43.000000</td>\n",
       "      <td>32.000000</td>\n",
       "      <td>8.946010e+05</td>\n",
       "      <td>0.000000</td>\n",
       "    </tr>\n",
       "    <tr>\n",
       "      <th>75%</th>\n",
       "      <td>54.000000</td>\n",
       "      <td>73.000000</td>\n",
       "      <td>1.366666e+06</td>\n",
       "      <td>0.000000</td>\n",
       "    </tr>\n",
       "    <tr>\n",
       "      <th>max</th>\n",
       "      <td>85.000000</td>\n",
       "      <td>135.000000</td>\n",
       "      <td>1.035201e+07</td>\n",
       "      <td>1.000000</td>\n",
       "    </tr>\n",
       "  </tbody>\n",
       "</table>\n",
       "</div>"
      ],
      "text/plain": [
       "                 Age        Vintage  Avg_Account_Balance        Is_Lead\n",
       "count  245725.000000  245725.000000         2.457250e+05  245725.000000\n",
       "mean       43.856307      46.959141         1.128403e+06       0.237208\n",
       "std        14.828672      32.353136         8.529364e+05       0.425372\n",
       "min        23.000000       7.000000         2.079000e+04       0.000000\n",
       "25%        30.000000      20.000000         6.043100e+05       0.000000\n",
       "50%        43.000000      32.000000         8.946010e+05       0.000000\n",
       "75%        54.000000      73.000000         1.366666e+06       0.000000\n",
       "max        85.000000     135.000000         1.035201e+07       1.000000"
      ]
     },
     "execution_count": 6,
     "metadata": {},
     "output_type": "execute_result"
    }
   ],
   "source": [
    "train.describe()"
   ]
  },
  {
   "cell_type": "code",
   "execution_count": 7,
   "id": "cffe41a0-ca74-40a8-9719-f3c8dab55dbe",
   "metadata": {},
   "outputs": [
    {
     "name": "stdout",
     "output_type": "stream",
     "text": [
      "<class 'pandas.core.frame.DataFrame'>\n",
      "RangeIndex: 105312 entries, 0 to 105311\n",
      "Data columns (total 10 columns):\n",
      " #   Column               Non-Null Count   Dtype \n",
      "---  ------               --------------   ----- \n",
      " 0   ID                   105312 non-null  object\n",
      " 1   Gender               105312 non-null  object\n",
      " 2   Age                  105312 non-null  int64 \n",
      " 3   Region_Code          105312 non-null  object\n",
      " 4   Occupation           105312 non-null  object\n",
      " 5   Channel_Code         105312 non-null  object\n",
      " 6   Vintage              105312 non-null  int64 \n",
      " 7   Credit_Product       92790 non-null   object\n",
      " 8   Avg_Account_Balance  105312 non-null  int64 \n",
      " 9   Is_Active            105312 non-null  object\n",
      "dtypes: int64(3), object(7)\n",
      "memory usage: 8.0+ MB\n"
     ]
    }
   ],
   "source": [
    "test.info()"
   ]
  },
  {
   "cell_type": "code",
   "execution_count": 8,
   "id": "da9ad972-1cf5-449d-82f8-5282dd45131c",
   "metadata": {},
   "outputs": [
    {
     "data": {
      "text/html": [
       "<div>\n",
       "<style scoped>\n",
       "    .dataframe tbody tr th:only-of-type {\n",
       "        vertical-align: middle;\n",
       "    }\n",
       "\n",
       "    .dataframe tbody tr th {\n",
       "        vertical-align: top;\n",
       "    }\n",
       "\n",
       "    .dataframe thead th {\n",
       "        text-align: right;\n",
       "    }\n",
       "</style>\n",
       "<table border=\"1\" class=\"dataframe\">\n",
       "  <thead>\n",
       "    <tr style=\"text-align: right;\">\n",
       "      <th></th>\n",
       "      <th>Age</th>\n",
       "      <th>Vintage</th>\n",
       "      <th>Avg_Account_Balance</th>\n",
       "    </tr>\n",
       "  </thead>\n",
       "  <tbody>\n",
       "    <tr>\n",
       "      <th>count</th>\n",
       "      <td>105312.000000</td>\n",
       "      <td>105312.000000</td>\n",
       "      <td>1.053120e+05</td>\n",
       "    </tr>\n",
       "    <tr>\n",
       "      <th>mean</th>\n",
       "      <td>43.871002</td>\n",
       "      <td>46.842819</td>\n",
       "      <td>1.134195e+06</td>\n",
       "    </tr>\n",
       "    <tr>\n",
       "      <th>std</th>\n",
       "      <td>14.872890</td>\n",
       "      <td>32.273634</td>\n",
       "      <td>8.662430e+05</td>\n",
       "    </tr>\n",
       "    <tr>\n",
       "      <th>min</th>\n",
       "      <td>24.000000</td>\n",
       "      <td>7.000000</td>\n",
       "      <td>2.259700e+04</td>\n",
       "    </tr>\n",
       "    <tr>\n",
       "      <th>25%</th>\n",
       "      <td>30.000000</td>\n",
       "      <td>20.000000</td>\n",
       "      <td>6.039822e+05</td>\n",
       "    </tr>\n",
       "    <tr>\n",
       "      <th>50%</th>\n",
       "      <td>43.000000</td>\n",
       "      <td>32.000000</td>\n",
       "      <td>8.966345e+05</td>\n",
       "    </tr>\n",
       "    <tr>\n",
       "      <th>75%</th>\n",
       "      <td>54.000000</td>\n",
       "      <td>73.000000</td>\n",
       "      <td>1.371598e+06</td>\n",
       "    </tr>\n",
       "    <tr>\n",
       "      <th>max</th>\n",
       "      <td>85.000000</td>\n",
       "      <td>135.000000</td>\n",
       "      <td>9.908858e+06</td>\n",
       "    </tr>\n",
       "  </tbody>\n",
       "</table>\n",
       "</div>"
      ],
      "text/plain": [
       "                 Age        Vintage  Avg_Account_Balance\n",
       "count  105312.000000  105312.000000         1.053120e+05\n",
       "mean       43.871002      46.842819         1.134195e+06\n",
       "std        14.872890      32.273634         8.662430e+05\n",
       "min        24.000000       7.000000         2.259700e+04\n",
       "25%        30.000000      20.000000         6.039822e+05\n",
       "50%        43.000000      32.000000         8.966345e+05\n",
       "75%        54.000000      73.000000         1.371598e+06\n",
       "max        85.000000     135.000000         9.908858e+06"
      ]
     },
     "execution_count": 8,
     "metadata": {},
     "output_type": "execute_result"
    }
   ],
   "source": [
    "test.describe()"
   ]
  },
  {
   "cell_type": "markdown",
   "id": "00be6e99-f389-4fa7-bbc8-17978e439d7e",
   "metadata": {},
   "source": [
    "#### Key Inferences\n",
    "\n",
    "* There are 2,45,725 records in Train and 1,05,312 records in Test files.\n",
    "* There are 11 Columns in Train file.\n",
    "* The datatypes of all the columns are mathing to their respective values inside. No need to modify the data types."
   ]
  },
  {
   "cell_type": "markdown",
   "id": "2f18f3db-b0a3-4df5-8607-7499b31b4e6a",
   "metadata": {},
   "source": [
    "## 1. Data preprocess"
   ]
  },
  {
   "cell_type": "markdown",
   "id": "0ae19e5a-5cab-4af4-b684-e83cfd12f05c",
   "metadata": {},
   "source": [
    "### 1.1 Check for Single Value and Unique Value Columns"
   ]
  },
  {
   "cell_type": "code",
   "execution_count": 9,
   "id": "db8b67d3-52c6-4912-b0e9-7af9c7ae1791",
   "metadata": {},
   "outputs": [
    {
     "data": {
      "text/html": [
       "<div>\n",
       "<style scoped>\n",
       "    .dataframe tbody tr th:only-of-type {\n",
       "        vertical-align: middle;\n",
       "    }\n",
       "\n",
       "    .dataframe tbody tr th {\n",
       "        vertical-align: top;\n",
       "    }\n",
       "\n",
       "    .dataframe thead th {\n",
       "        text-align: right;\n",
       "    }\n",
       "</style>\n",
       "<table border=\"1\" class=\"dataframe\">\n",
       "  <thead>\n",
       "    <tr style=\"text-align: right;\">\n",
       "      <th></th>\n",
       "      <th>Column</th>\n",
       "      <th>dataType</th>\n",
       "      <th>Unique Count</th>\n",
       "      <th>Unique Values</th>\n",
       "    </tr>\n",
       "  </thead>\n",
       "  <tbody>\n",
       "    <tr>\n",
       "      <th>0</th>\n",
       "      <td>ID</td>\n",
       "      <td>object</td>\n",
       "      <td>245725</td>\n",
       "      <td>&lt;multiple&gt;</td>\n",
       "    </tr>\n",
       "    <tr>\n",
       "      <th>1</th>\n",
       "      <td>Gender</td>\n",
       "      <td>object</td>\n",
       "      <td>2</td>\n",
       "      <td>[Female, Male]</td>\n",
       "    </tr>\n",
       "    <tr>\n",
       "      <th>2</th>\n",
       "      <td>Age</td>\n",
       "      <td>int64</td>\n",
       "      <td>63</td>\n",
       "      <td>&lt;multiple&gt;</td>\n",
       "    </tr>\n",
       "    <tr>\n",
       "      <th>3</th>\n",
       "      <td>Region_Code</td>\n",
       "      <td>object</td>\n",
       "      <td>35</td>\n",
       "      <td>&lt;multiple&gt;</td>\n",
       "    </tr>\n",
       "    <tr>\n",
       "      <th>4</th>\n",
       "      <td>Occupation</td>\n",
       "      <td>object</td>\n",
       "      <td>4</td>\n",
       "      <td>[Other, Salaried, Self_Employed, Entrepreneur]</td>\n",
       "    </tr>\n",
       "    <tr>\n",
       "      <th>5</th>\n",
       "      <td>Channel_Code</td>\n",
       "      <td>object</td>\n",
       "      <td>4</td>\n",
       "      <td>[X3, X1, X2, X4]</td>\n",
       "    </tr>\n",
       "    <tr>\n",
       "      <th>6</th>\n",
       "      <td>Vintage</td>\n",
       "      <td>int64</td>\n",
       "      <td>66</td>\n",
       "      <td>&lt;multiple&gt;</td>\n",
       "    </tr>\n",
       "    <tr>\n",
       "      <th>7</th>\n",
       "      <td>Credit_Product</td>\n",
       "      <td>object</td>\n",
       "      <td>2</td>\n",
       "      <td>[No, nan, Yes]</td>\n",
       "    </tr>\n",
       "    <tr>\n",
       "      <th>8</th>\n",
       "      <td>Avg_Account_Balance</td>\n",
       "      <td>int64</td>\n",
       "      <td>135292</td>\n",
       "      <td>&lt;multiple&gt;</td>\n",
       "    </tr>\n",
       "    <tr>\n",
       "      <th>9</th>\n",
       "      <td>Is_Active</td>\n",
       "      <td>object</td>\n",
       "      <td>2</td>\n",
       "      <td>[No, Yes]</td>\n",
       "    </tr>\n",
       "    <tr>\n",
       "      <th>10</th>\n",
       "      <td>Is_Lead</td>\n",
       "      <td>int64</td>\n",
       "      <td>2</td>\n",
       "      <td>[0, 1]</td>\n",
       "    </tr>\n",
       "  </tbody>\n",
       "</table>\n",
       "</div>"
      ],
      "text/plain": [
       "                 Column dataType  Unique Count  \\\n",
       "0                    ID   object        245725   \n",
       "1                Gender   object             2   \n",
       "2                   Age    int64            63   \n",
       "3           Region_Code   object            35   \n",
       "4            Occupation   object             4   \n",
       "5          Channel_Code   object             4   \n",
       "6               Vintage    int64            66   \n",
       "7        Credit_Product   object             2   \n",
       "8   Avg_Account_Balance    int64        135292   \n",
       "9             Is_Active   object             2   \n",
       "10              Is_Lead    int64             2   \n",
       "\n",
       "                                     Unique Values  \n",
       "0                                       <multiple>  \n",
       "1                                   [Female, Male]  \n",
       "2                                       <multiple>  \n",
       "3                                       <multiple>  \n",
       "4   [Other, Salaried, Self_Employed, Entrepreneur]  \n",
       "5                                 [X3, X1, X2, X4]  \n",
       "6                                       <multiple>  \n",
       "7                                   [No, nan, Yes]  \n",
       "8                                       <multiple>  \n",
       "9                                        [No, Yes]  \n",
       "10                                          [0, 1]  "
      ]
     },
     "execution_count": 9,
     "metadata": {},
     "output_type": "execute_result"
    }
   ],
   "source": [
    "# Print the no of unique values in each column\n",
    "unique_counts = []\n",
    "for col, dtyp in zip(train.columns, train.dtypes):\n",
    "    ucnt = train[col].nunique()\n",
    "    if ucnt > 5:\n",
    "        unique_counts.append({\"Column\": col, \"dataType\": dtyp, \"Unique Count\": ucnt, \"Unique Values\": \"<multiple>\"})\n",
    "    else:\n",
    "        unique_counts.append({\"Column\": col, \"dataType\": dtyp, \"Unique Count\": ucnt, \"Unique Values\": train[col].unique()})\n",
    "    \n",
    "pd.DataFrame(unique_counts)"
   ]
  },
  {
   "cell_type": "markdown",
   "id": "56c1182a-e612-4e76-9033-6e24a45e5658",
   "metadata": {},
   "source": [
    "#### Key Inferences\n",
    "* Column ID is of Object type and has all unique values which is not useful for ML modelling.\n",
    "* Rest all good candidates for further processing.\n",
    "* Train dataset has both Categorical and Numerical columns.\n",
    "* Categorical Columns: Gender, Region_Code, Occupation, Channel_Code, Credit_Product, Is_Active.\n",
    "* Numerical Columns: Age, Vintage, Avg_Account_Balance\n",
    "* Target Column: Is_Lead"
   ]
  },
  {
   "cell_type": "markdown",
   "id": "d72e6230-a70e-4801-9f13-4241048f28aa",
   "metadata": {},
   "source": [
    "### 1.2. Check for missing values"
   ]
  },
  {
   "cell_type": "code",
   "execution_count": 10,
   "id": "ec7de415-812e-4657-a4fa-22643f64ca07",
   "metadata": {},
   "outputs": [
    {
     "data": {
      "text/plain": [
       "ID                         0\n",
       "Gender                     0\n",
       "Age                        0\n",
       "Region_Code                0\n",
       "Occupation                 0\n",
       "Channel_Code               0\n",
       "Vintage                    0\n",
       "Credit_Product         29325\n",
       "Avg_Account_Balance        0\n",
       "Is_Active                  0\n",
       "Is_Lead                    0\n",
       "dtype: int64"
      ]
     },
     "execution_count": 10,
     "metadata": {},
     "output_type": "execute_result"
    }
   ],
   "source": [
    "# Get No of missing values in each Column - Train\n",
    "train.isnull().sum(axis = 0)"
   ]
  },
  {
   "cell_type": "code",
   "execution_count": 11,
   "id": "e52a0387-0b9e-43e9-8201-09fe7a6c398b",
   "metadata": {},
   "outputs": [
    {
     "data": {
      "text/plain": [
       "ID                         0\n",
       "Gender                     0\n",
       "Age                        0\n",
       "Region_Code                0\n",
       "Occupation                 0\n",
       "Channel_Code               0\n",
       "Vintage                    0\n",
       "Credit_Product         12522\n",
       "Avg_Account_Balance        0\n",
       "Is_Active                  0\n",
       "dtype: int64"
      ]
     },
     "execution_count": 11,
     "metadata": {},
     "output_type": "execute_result"
    }
   ],
   "source": [
    "# Get No of missing values in each Column - Test\n",
    "test.isnull().sum(axis = 0)"
   ]
  },
  {
   "cell_type": "markdown",
   "id": "2a074e1e-a07c-42f7-807a-d914620d17d5",
   "metadata": {},
   "source": [
    "#### Key Inferences\n",
    "* Expect Column Credit_Product, rest all the columns are not having any missing values in both Train  & Test datasets.\n",
    "* There are missing values in Credit_Product which is significantly high (11.93%).\n",
    "* Choosing the right missing value will seriously affect the final prediction.\n",
    "* So it is important to replace the missing values based on the majority groups."
   ]
  },
  {
   "cell_type": "code",
   "execution_count": 12,
   "id": "acc9b161-dc08-42ec-814b-d7b6392d2664",
   "metadata": {},
   "outputs": [
    {
     "data": {
      "text/plain": [
       "Credit_Product\n",
       "No     144357\n",
       "Yes     72043\n",
       "Name: ID, dtype: int64"
      ]
     },
     "execution_count": 12,
     "metadata": {},
     "output_type": "execute_result"
    }
   ],
   "source": [
    "train.groupby(\"Credit_Product\")[\"ID\"].count()"
   ]
  },
  {
   "cell_type": "code",
   "execution_count": 13,
   "id": "a53c981c-b006-49f8-86f8-8df0fb3f9d0d",
   "metadata": {},
   "outputs": [],
   "source": [
    "# For timebeing lets replace NaN with Unknown for further analysis.\n",
    "train[\"Credit_Product\"] = train[\"Credit_Product\"].fillna(\"Uknown\")\n",
    "test[\"Credit_Product\"] = test[\"Credit_Product\"].fillna(\"Unknown\")"
   ]
  },
  {
   "cell_type": "code",
   "execution_count": 14,
   "id": "6c2c2862-8769-4fa3-a5f3-ad06dd533811",
   "metadata": {},
   "outputs": [
    {
     "data": {
      "text/plain": [
       "Credit_Product  Occupation     Is_Lead\n",
       "No              Entrepreneur   0              2\n",
       "                Other          0          36526\n",
       "                               1           2899\n",
       "                Salaried       0          49035\n",
       "                               1           3388\n",
       "                Self_Employed  0          48171\n",
       "                               1           4336\n",
       "Uknown          Entrepreneur   0            146\n",
       "                               1            870\n",
       "                Other          0           1554\n",
       "                               1           7773\n",
       "                Salaried       0            287\n",
       "                               1           3929\n",
       "                Self_Employed  0           2363\n",
       "                               1          12403\n",
       "Yes             Entrepreneur   0            757\n",
       "                               1            892\n",
       "                Other          0          14904\n",
       "                               1           6517\n",
       "                Salaried       0          11181\n",
       "                               1           4179\n",
       "                Self_Employed  0          22511\n",
       "                               1          11102\n",
       "Name: ID, dtype: int64"
      ]
     },
     "execution_count": 14,
     "metadata": {},
     "output_type": "execute_result"
    }
   ],
   "source": [
    "train.groupby(by=[\"Credit_Product\", \"Occupation\", \"Is_Lead\"])[\"ID\"].count()"
   ]
  },
  {
   "cell_type": "code",
   "execution_count": 15,
   "id": "be867cb8-19d3-46da-a2cb-27b3ce195cee",
   "metadata": {},
   "outputs": [],
   "source": [
    "# Get the mode of majority\n",
    "train_major_grp = train.groupby(by=[\"Gender\", \"Channel_Code\", \"Occupation\"])[\"Credit_Product\"].agg(lambda x:x.value_counts().index[0]).reset_index()\n",
    "test_major_grp = train.groupby(by=[\"Gender\", \"Channel_Code\", \"Occupation\"])[\"Credit_Product\"].agg(lambda x:x.value_counts().index[0]).reset_index()"
   ]
  },
  {
   "cell_type": "code",
   "execution_count": 16,
   "id": "734bc3af-c4e6-41ae-819e-a0c2aa5dc74d",
   "metadata": {},
   "outputs": [],
   "source": [
    "train_adj = pd.merge(train, train_major_grp, on=[\"Gender\", \"Channel_Code\", \"Occupation\"], how=\"left\")\n",
    "test_adj = pd.merge(test, test_major_grp, on=[\"Gender\", \"Channel_Code\", \"Occupation\"], how=\"left\")"
   ]
  },
  {
   "cell_type": "code",
   "execution_count": 17,
   "id": "36dca487-3531-40fa-ab54-3da7c9fea20c",
   "metadata": {},
   "outputs": [],
   "source": [
    "train_adj[\"Credit_Product\"] = train_adj.Credit_Product_x.fillna(train_adj.Credit_Product_y)\n",
    "test_adj[\"Credit_Product\"] = test_adj.Credit_Product_x.fillna(test_adj.Credit_Product_y)"
   ]
  },
  {
   "cell_type": "markdown",
   "id": "feb04293-7ac3-420d-bc35-a39246ba37f6",
   "metadata": {},
   "source": [
    "## 2. Exploratory Data Analysis"
   ]
  },
  {
   "cell_type": "code",
   "execution_count": 18,
   "id": "598669b0-98cc-434e-af93-d883728155f8",
   "metadata": {},
   "outputs": [],
   "source": [
    "import matplotlib.pyplot as plt\n",
    "import seaborn as sns\n",
    "from statsmodels.graphics.mosaicplot import mosaic"
   ]
  },
  {
   "cell_type": "code",
   "execution_count": 19,
   "id": "e2a4e2da-44d2-4dcd-9b1d-1ab3b8d868ed",
   "metadata": {
    "tags": []
   },
   "outputs": [],
   "source": [
    "cat_cols = [\"Gender\", \"Region_Code\", \"Occupation\", \"Channel_Code\", \"Credit_Product\", \"Is_Active\"]\n",
    "num_cols = [\"Age\", \"Vintage\", \"Avg_Account_Balance\"]"
   ]
  },
  {
   "cell_type": "code",
   "execution_count": 20,
   "id": "b640e926-d04f-48c7-acf2-544f3bae1224",
   "metadata": {},
   "outputs": [
    {
     "data": {
      "text/html": [
       "<div>\n",
       "<style scoped>\n",
       "    .dataframe tbody tr th:only-of-type {\n",
       "        vertical-align: middle;\n",
       "    }\n",
       "\n",
       "    .dataframe tbody tr th {\n",
       "        vertical-align: top;\n",
       "    }\n",
       "\n",
       "    .dataframe thead th {\n",
       "        text-align: right;\n",
       "    }\n",
       "</style>\n",
       "<table border=\"1\" class=\"dataframe\">\n",
       "  <thead>\n",
       "    <tr style=\"text-align: right;\">\n",
       "      <th></th>\n",
       "      <th>Gender</th>\n",
       "      <th>Region_Code</th>\n",
       "      <th>Occupation</th>\n",
       "      <th>Channel_Code</th>\n",
       "      <th>Credit_Product</th>\n",
       "      <th>Is_Active</th>\n",
       "      <th>Age</th>\n",
       "      <th>Vintage</th>\n",
       "      <th>Avg_Account_Balance</th>\n",
       "      <th>Is_Lead</th>\n",
       "    </tr>\n",
       "  </thead>\n",
       "  <tbody>\n",
       "    <tr>\n",
       "      <th>0</th>\n",
       "      <td>0</td>\n",
       "      <td>18</td>\n",
       "      <td>1</td>\n",
       "      <td>2</td>\n",
       "      <td>0</td>\n",
       "      <td>0</td>\n",
       "      <td>73</td>\n",
       "      <td>43</td>\n",
       "      <td>1045696</td>\n",
       "      <td>0</td>\n",
       "    </tr>\n",
       "    <tr>\n",
       "      <th>1</th>\n",
       "      <td>0</td>\n",
       "      <td>27</td>\n",
       "      <td>2</td>\n",
       "      <td>0</td>\n",
       "      <td>0</td>\n",
       "      <td>0</td>\n",
       "      <td>30</td>\n",
       "      <td>32</td>\n",
       "      <td>581988</td>\n",
       "      <td>0</td>\n",
       "    </tr>\n",
       "    <tr>\n",
       "      <th>2</th>\n",
       "      <td>0</td>\n",
       "      <td>18</td>\n",
       "      <td>3</td>\n",
       "      <td>2</td>\n",
       "      <td>0</td>\n",
       "      <td>1</td>\n",
       "      <td>56</td>\n",
       "      <td>26</td>\n",
       "      <td>1484315</td>\n",
       "      <td>0</td>\n",
       "    </tr>\n",
       "    <tr>\n",
       "      <th>3</th>\n",
       "      <td>1</td>\n",
       "      <td>20</td>\n",
       "      <td>2</td>\n",
       "      <td>0</td>\n",
       "      <td>0</td>\n",
       "      <td>0</td>\n",
       "      <td>34</td>\n",
       "      <td>19</td>\n",
       "      <td>470454</td>\n",
       "      <td>0</td>\n",
       "    </tr>\n",
       "    <tr>\n",
       "      <th>4</th>\n",
       "      <td>0</td>\n",
       "      <td>32</td>\n",
       "      <td>2</td>\n",
       "      <td>0</td>\n",
       "      <td>0</td>\n",
       "      <td>0</td>\n",
       "      <td>30</td>\n",
       "      <td>33</td>\n",
       "      <td>886787</td>\n",
       "      <td>0</td>\n",
       "    </tr>\n",
       "  </tbody>\n",
       "</table>\n",
       "</div>"
      ],
      "text/plain": [
       "   Gender  Region_Code  Occupation  Channel_Code  Credit_Product  Is_Active  \\\n",
       "0       0           18           1             2               0          0   \n",
       "1       0           27           2             0               0          0   \n",
       "2       0           18           3             2               0          1   \n",
       "3       1           20           2             0               0          0   \n",
       "4       0           32           2             0               0          0   \n",
       "\n",
       "   Age  Vintage  Avg_Account_Balance  Is_Lead  \n",
       "0   73       43              1045696        0  \n",
       "1   30       32               581988        0  \n",
       "2   56       26              1484315        0  \n",
       "3   34       19               470454        0  \n",
       "4   30       33               886787        0  "
      ]
     },
     "execution_count": 20,
     "metadata": {},
     "output_type": "execute_result"
    }
   ],
   "source": [
    "# It is important to convert the Categorical columns into numerical before Correlation test\n",
    "# Lets convert the Categorical Values into numerical\n",
    "\n",
    "from sklearn.preprocessing import OrdinalEncoder, LabelEncoder\n",
    "from sklearn.compose import ColumnTransformer\n",
    "\n",
    "\n",
    "train_cat = train_adj[cat_cols]\n",
    "train_num = train_adj[num_cols]\n",
    "train_target = train_adj[[\"Is_Lead\"]]\n",
    "\n",
    "# Encoder for Categorical Columns\n",
    "encoder = ColumnTransformer(\n",
    "    transformers=[\n",
    "        ('cat', OrdinalEncoder(dtype = np.int64,handle_unknown=\"use_encoded_value\", unknown_value=999999), cat_cols),\n",
    "    ])\n",
    "\n",
    "_encoded = encoder.fit_transform(train_cat)\n",
    "train_cat_encoded = pd.DataFrame(_encoded, columns=cat_cols)\n",
    "\n",
    "train_encoded = pd.concat([train_cat_encoded, train_num, train_target], axis=1)\n",
    "train_encoded.head()"
   ]
  },
  {
   "cell_type": "code",
   "execution_count": 21,
   "id": "48703d47-943f-491f-b757-f42d4daf1f4f",
   "metadata": {},
   "outputs": [
    {
     "data": {
      "text/html": [
       "<div>\n",
       "<style scoped>\n",
       "    .dataframe tbody tr th:only-of-type {\n",
       "        vertical-align: middle;\n",
       "    }\n",
       "\n",
       "    .dataframe tbody tr th {\n",
       "        vertical-align: top;\n",
       "    }\n",
       "\n",
       "    .dataframe thead th {\n",
       "        text-align: right;\n",
       "    }\n",
       "</style>\n",
       "<table border=\"1\" class=\"dataframe\">\n",
       "  <thead>\n",
       "    <tr style=\"text-align: right;\">\n",
       "      <th></th>\n",
       "      <th>Gender</th>\n",
       "      <th>Region_Code</th>\n",
       "      <th>Occupation</th>\n",
       "      <th>Channel_Code</th>\n",
       "      <th>Credit_Product</th>\n",
       "      <th>Is_Active</th>\n",
       "      <th>Age</th>\n",
       "      <th>Vintage</th>\n",
       "      <th>Avg_Account_Balance</th>\n",
       "    </tr>\n",
       "  </thead>\n",
       "  <tbody>\n",
       "    <tr>\n",
       "      <th>0</th>\n",
       "      <td>1</td>\n",
       "      <td>4</td>\n",
       "      <td>1</td>\n",
       "      <td>0</td>\n",
       "      <td>2</td>\n",
       "      <td>0</td>\n",
       "      <td>29</td>\n",
       "      <td>25</td>\n",
       "      <td>742366</td>\n",
       "    </tr>\n",
       "    <tr>\n",
       "      <th>1</th>\n",
       "      <td>1</td>\n",
       "      <td>18</td>\n",
       "      <td>1</td>\n",
       "      <td>1</td>\n",
       "      <td>999999</td>\n",
       "      <td>0</td>\n",
       "      <td>43</td>\n",
       "      <td>49</td>\n",
       "      <td>925537</td>\n",
       "    </tr>\n",
       "    <tr>\n",
       "      <th>2</th>\n",
       "      <td>1</td>\n",
       "      <td>20</td>\n",
       "      <td>2</td>\n",
       "      <td>0</td>\n",
       "      <td>0</td>\n",
       "      <td>0</td>\n",
       "      <td>31</td>\n",
       "      <td>14</td>\n",
       "      <td>215949</td>\n",
       "    </tr>\n",
       "    <tr>\n",
       "      <th>3</th>\n",
       "      <td>1</td>\n",
       "      <td>22</td>\n",
       "      <td>1</td>\n",
       "      <td>0</td>\n",
       "      <td>0</td>\n",
       "      <td>0</td>\n",
       "      <td>29</td>\n",
       "      <td>33</td>\n",
       "      <td>868070</td>\n",
       "    </tr>\n",
       "    <tr>\n",
       "      <th>4</th>\n",
       "      <td>0</td>\n",
       "      <td>20</td>\n",
       "      <td>1</td>\n",
       "      <td>0</td>\n",
       "      <td>0</td>\n",
       "      <td>0</td>\n",
       "      <td>29</td>\n",
       "      <td>19</td>\n",
       "      <td>657087</td>\n",
       "    </tr>\n",
       "  </tbody>\n",
       "</table>\n",
       "</div>"
      ],
      "text/plain": [
       "   Gender  Region_Code  Occupation  Channel_Code  Credit_Product  Is_Active  \\\n",
       "0       1            4           1             0               2          0   \n",
       "1       1           18           1             1          999999          0   \n",
       "2       1           20           2             0               0          0   \n",
       "3       1           22           1             0               0          0   \n",
       "4       0           20           1             0               0          0   \n",
       "\n",
       "   Age  Vintage  Avg_Account_Balance  \n",
       "0   29       25               742366  \n",
       "1   43       49               925537  \n",
       "2   31       14               215949  \n",
       "3   29       33               868070  \n",
       "4   29       19               657087  "
      ]
     },
     "execution_count": 21,
     "metadata": {},
     "output_type": "execute_result"
    }
   ],
   "source": [
    "test_cat = test_adj[cat_cols]\n",
    "test_num = test_adj[num_cols]\n",
    "\n",
    "_encoded2 = encoder.transform(test_cat)\n",
    "test_cat_encoded = pd.DataFrame(_encoded2, columns=cat_cols)\n",
    "\n",
    "test_encoded = pd.concat([test_cat_encoded, test_num], axis=1)\n",
    "test_encoded.head()"
   ]
  },
  {
   "cell_type": "markdown",
   "id": "3101f9c2-5bf6-4cb1-833d-be251fd642ee",
   "metadata": {},
   "source": [
    "### 2.1. Data Distribution"
   ]
  },
  {
   "cell_type": "code",
   "execution_count": 22,
   "id": "b043d2fd-8766-4415-947f-27e92470944f",
   "metadata": {},
   "outputs": [
    {
     "data": {
      "image/png": "[encoded data removed]",
      "text/plain": [
       "<Figure size 1080x1080 with 3 Axes>"
      ]
     },
     "metadata": {
      "needs_background": "light"
     },
     "output_type": "display_data"
    }
   ],
   "source": [
    "# Lets look at the data distribiton of Numerical Columns\n",
    "fig, axs = plt.subplots(nrows=3, figsize=(15,15))\n",
    "for col in num_cols:\n",
    "    sns.histplot(data=train_encoded, x=col, hue=\"Is_Lead\", ax=axs[num_cols.index(col)], kde=True)"
   ]
  },
  {
   "cell_type": "markdown",
   "id": "33768fce-4ddb-4d15-8b38-6f82c91e2aaf",
   "metadata": {},
   "source": [
    "#### Key Inferences\n",
    "* The data distribution of Numerical Variables are positively skewed.\n",
    "* So it is important to choose Non-parameteric tools for correlation testing and ML Modeling.\n",
    "* Age & Vintage are having better correlation compaired to Avg_Account_Balance."
   ]
  },
  {
   "cell_type": "code",
   "execution_count": 23,
   "id": "369ff6f8-ef8a-424c-a97a-27aa30b084a3",
   "metadata": {},
   "outputs": [
    {
     "data": {
      "image/png": "[encoded data removed]",
      "text/plain": [
       "<Figure size 864x1440 with 15 Axes>"
      ]
     },
     "metadata": {
      "needs_background": "light"
     },
     "output_type": "display_data"
    }
   ],
   "source": [
    "# Lets look at the data distribiton of Categorical Columns\n",
    "fig, axs = plt.subplots(nrows=5, figsize=(12,20))\n",
    "i = 0\n",
    "for col in cat_cols:\n",
    "    if train_encoded[col].nunique() < 5:\n",
    "        mosaic(train, [col, 'Is_Lead'], ax=axs[i], title=col + \" vs Lead\")\n",
    "        i += 1"
   ]
  },
  {
   "cell_type": "markdown",
   "id": "1861758e-a4e3-4e63-aaf2-f88f51ffadf4",
   "metadata": {},
   "source": [
    "#### Key Inferences\n",
    "* The data distribution of categorial columns among their categories are not some.\n",
    "* Channel_code, Occupation are showing high variation with Is_Lead compared to other Categorical values.\n",
    "* Credit_Product chart indicates that the customers having credit products already has shown interests (lead) to get credit card compaired to those not having a credit product previously. "
   ]
  },
  {
   "cell_type": "markdown",
   "id": "7b21ed89-4941-4f79-94f8-157fd5c892f5",
   "metadata": {},
   "source": [
    "### 2.2. Correlation Testing"
   ]
  },
  {
   "cell_type": "code",
   "execution_count": 24,
   "id": "eaeabf9d-81e5-4e4c-be03-8cb9ece29667",
   "metadata": {},
   "outputs": [
    {
     "data": {
      "text/plain": [
       "<AxesSubplot:>"
      ]
     },
     "execution_count": 24,
     "metadata": {},
     "output_type": "execute_result"
    },
    {
     "data": {
      "image/png": "[encoded data removed]",
      "text/plain": [
       "<Figure size 720x720 with 2 Axes>"
      ]
     },
     "metadata": {
      "needs_background": "light"
     },
     "output_type": "display_data"
    }
   ],
   "source": [
    "# print the Correlation Matrix\n",
    "plt.figure(figsize=(10,10))\n",
    "sns.heatmap(train_encoded.corr(method=\"spearman\"), annot=True)"
   ]
  },
  {
   "cell_type": "code",
   "execution_count": 25,
   "id": "3fad5c9f-2c17-4894-981e-a51a0b918d54",
   "metadata": {},
   "outputs": [],
   "source": [
    "# Chi-Squre Test\n"
   ]
  },
  {
   "cell_type": "markdown",
   "id": "f1f43e91-4020-4508-bdf3-c770d1fa1245",
   "metadata": {},
   "source": [
    "### 2.4. Treating missing values for Credit_Product"
   ]
  },
  {
   "cell_type": "markdown",
   "id": "2152c579-cddc-41a7-82c8-4b0d12e1b343",
   "metadata": {},
   "source": [
    "## 3. ML Model Building"
   ]
  },
  {
   "cell_type": "code",
   "execution_count": 26,
   "id": "a602294f-2129-47f4-8230-16530471cb5f",
   "metadata": {},
   "outputs": [],
   "source": [
    "from sklearn.naive_bayes import MultinomialNB, CategoricalNB\n",
    "from sklearn.model_selection import train_test_split\n",
    "from sklearn.metrics import accuracy_score, precision_score, recall_score, confusion_matrix, roc_auc_score\n",
    "from sklearn.model_selection import StratifiedKFold"
   ]
  },
  {
   "cell_type": "code",
   "execution_count": 27,
   "id": "2c152ec7-ddd1-4fca-be37-3f1e9ced1d07",
   "metadata": {},
   "outputs": [],
   "source": [
    "from lightgbm import LGBMClassifier"
   ]
  },
  {
   "cell_type": "code",
   "execution_count": 45,
   "id": "0e795190-7fe5-4554-a932-188b7f210f39",
   "metadata": {},
   "outputs": [],
   "source": [
    "def model_cross_validation(X, y, splits, model, params):\n",
    "    kf = StratifiedKFold(n_splits=splits, shuffle=True, random_state=145)\n",
    "    \n",
    "    for step, (train_idx, test_idx) in enumerate(kf.split(X, y)):\n",
    "        print(f\"\\nStep - {step+1}\")\n",
    "        \n",
    "        X_train, y_train = X.iloc[train_idx], y.iloc[train_idx]\n",
    "        X_test, y_test = X.iloc[test_idx], y.iloc[test_idx]\n",
    "        \n",
    "        classifier = model(**params)\n",
    "        classifier.fit(X_train, y_train, \n",
    "                       eval_set=[(X_test, y_test)],\n",
    "                       early_stopping_rounds=100,\n",
    "                       verbose=400)\n",
    "        \n",
    "        pred = classifier.predict(X_test)\n",
    "        prob = classifier.predict_proba(X_test)[:, 1]\n",
    "        accuracy = accuracy_score(y_test, pred)\n",
    "        print(f\"accuracy : {accuracy_score(y_test, pred)}\")\n",
    "        print(f\"precision : {precision_score(y_test, pred)}\")\n",
    "        print(f\"recall : {recall_score(y_test, pred)}\")\n",
    "        print(f\"roc_auc_score : {roc_auc_score(y_test, prob)}\")\n",
    "        \n",
    "        print(\"=\"*75)\n",
    "    \n",
    "    return classifier"
   ]
  },
  {
   "cell_type": "code",
   "execution_count": 47,
   "id": "999a64a1-b863-4afd-86fa-2cf4d9232910",
   "metadata": {},
   "outputs": [],
   "source": [
    "# sel_cols = [\"Gender\", \"Region_Code\", \"Occupation\", \"Channel_Code\", \n",
    "#             \"Credit_Product\", \"Is_Active\", \"Age\", \"Vintage\", \"Avg_Account_Balance\"]\n",
    "# sel_cols = ['Gender','Region_Code','Occupation','Channel_Code','Credit_Product','Is_Active']\n",
    "sel_cols = ['Age','Vintage', 'Occupation', 'Channel_Code','Credit_Product']"
   ]
  },
  {
   "cell_type": "code",
   "execution_count": 48,
   "id": "57d9132e-88b3-4679-8099-f8c4684f6fe9",
   "metadata": {
    "scrolled": true,
    "tags": []
   },
   "outputs": [
    {
     "name": "stdout",
     "output_type": "stream",
     "text": [
      "\n",
      "Step - 1\n",
      "[LightGBM] [Warning] Unknown parameter: eval_metric\n",
      "Training until validation scores don't improve for 100 rounds\n",
      "[400]\tvalid_0's binary_logloss: 0.353494\n",
      "Early stopping, best iteration is:\n",
      "[653]\tvalid_0's binary_logloss: 0.353318\n",
      "accuracy : 0.8584218451145567\n",
      "precision : 0.809536354056902\n",
      "recall : 0.5271916280665637\n",
      "roc_auc_score : 0.8660694496522641\n",
      "===========================================================================\n",
      "\n",
      "Step - 2\n",
      "[LightGBM] [Warning] Unknown parameter: eval_metric\n",
      "Training until validation scores don't improve for 100 rounds\n",
      "[400]\tvalid_0's binary_logloss: 0.344936\n",
      "Early stopping, best iteration is:\n",
      "[439]\tvalid_0's binary_logloss: 0.344904\n",
      "accuracy : 0.8615553656452204\n",
      "precision : 0.8311050477489768\n",
      "recall : 0.5225596157145308\n",
      "roc_auc_score : 0.8726440794101519\n",
      "===========================================================================\n",
      "\n",
      "Step - 3\n",
      "[LightGBM] [Warning] Unknown parameter: eval_metric\n",
      "Training until validation scores don't improve for 100 rounds\n",
      "[400]\tvalid_0's binary_logloss: 0.348061\n",
      "Early stopping, best iteration is:\n",
      "[628]\tvalid_0's binary_logloss: 0.348001\n",
      "accuracy : 0.8599275627721483\n",
      "precision : 0.815824292140778\n",
      "recall : 0.5289071881969463\n",
      "roc_auc_score : 0.8696281706469052\n",
      "===========================================================================\n",
      "\n",
      "Step - 4\n",
      "[LightGBM] [Warning] Unknown parameter: eval_metric\n",
      "Training until validation scores don't improve for 100 rounds\n",
      "[400]\tvalid_0's binary_logloss: 0.344509\n",
      "Early stopping, best iteration is:\n",
      "[400]\tvalid_0's binary_logloss: 0.344509\n",
      "accuracy : 0.8615960607170472\n",
      "precision : 0.8293543136190993\n",
      "recall : 0.5244467318579517\n",
      "roc_auc_score : 0.8735435083036258\n",
      "===========================================================================\n",
      "\n",
      "Step - 5\n",
      "[LightGBM] [Warning] Unknown parameter: eval_metric\n",
      "Training until validation scores don't improve for 100 rounds\n",
      "[400]\tvalid_0's binary_logloss: 0.347674\n",
      "Early stopping, best iteration is:\n",
      "[425]\tvalid_0's binary_logloss: 0.347651\n",
      "accuracy : 0.857526553534367\n",
      "precision : 0.819956019791094\n",
      "recall : 0.5117515868931206\n",
      "roc_auc_score : 0.873073893853616\n",
      "===========================================================================\n",
      "\n",
      "Step - 6\n",
      "[LightGBM] [Warning] Unknown parameter: eval_metric\n",
      "Training until validation scores don't improve for 100 rounds\n",
      "[400]\tvalid_0's binary_logloss: 0.351496\n",
      "Early stopping, best iteration is:\n",
      "[431]\tvalid_0's binary_logloss: 0.351477\n",
      "accuracy : 0.8570323945954745\n",
      "precision : 0.8221541887002505\n",
      "recall : 0.5068634179821551\n",
      "roc_auc_score : 0.8671995171147514\n",
      "===========================================================================\n",
      "\n",
      "Step - 7\n",
      "[LightGBM] [Warning] Unknown parameter: eval_metric\n",
      "Training until validation scores don't improve for 100 rounds\n",
      "[400]\tvalid_0's binary_logloss: 0.339951\n",
      "Early stopping, best iteration is:\n",
      "[443]\tvalid_0's binary_logloss: 0.339906\n",
      "accuracy : 0.8619973954094091\n",
      "precision : 0.8366952196739431\n",
      "recall : 0.5195607412491421\n",
      "roc_auc_score : 0.8784437787422107\n",
      "===========================================================================\n",
      "\n",
      "Step - 8\n",
      "[LightGBM] [Warning] Unknown parameter: eval_metric\n",
      "Training until validation scores don't improve for 100 rounds\n",
      "[400]\tvalid_0's binary_logloss: 0.344849\n",
      "Early stopping, best iteration is:\n",
      "[382]\tvalid_0's binary_logloss: 0.344836\n",
      "accuracy : 0.8587823538987466\n",
      "precision : 0.8297455968688845\n",
      "recall : 0.5091782466975467\n",
      "roc_auc_score : 0.8734197668828101\n",
      "===========================================================================\n",
      "\n",
      "Step - 9\n",
      "[LightGBM] [Warning] Unknown parameter: eval_metric\n",
      "Training until validation scores don't improve for 100 rounds\n",
      "[400]\tvalid_0's binary_logloss: 0.346967\n",
      "Early stopping, best iteration is:\n",
      "[450]\tvalid_0's binary_logloss: 0.346933\n",
      "accuracy : 0.8579277226111021\n",
      "precision : 0.8202739726027397\n",
      "recall : 0.5136387030365415\n",
      "roc_auc_score : 0.8722622237366283\n",
      "===========================================================================\n",
      "\n",
      "Step - 10\n",
      "[LightGBM] [Warning] Unknown parameter: eval_metric\n",
      "Training until validation scores don't improve for 100 rounds\n",
      "[400]\tvalid_0's binary_logloss: 0.347553\n",
      "Early stopping, best iteration is:\n",
      "[393]\tvalid_0's binary_logloss: 0.347545\n",
      "accuracy : 0.8604102230180694\n",
      "precision : 0.8278218092374966\n",
      "recall : 0.5196431634928804\n",
      "roc_auc_score : 0.8700313319694707\n",
      "===========================================================================\n"
     ]
    }
   ],
   "source": [
    "params = { 'boosting_type': 'gbdt',\n",
    "          'n_estimators': 8000,\n",
    "          'learning_rate': 0.025, \n",
    "          'num_leaves':  18,\n",
    "          'eval_metric': 'auc'\n",
    "         }\n",
    "lgbm_model = model_cross_validation(train_encoded[sel_cols], train_encoded.Is_Lead, 10, LGBMClassifier, params)\n",
    "# lgbm_model = cross_val(train_encoded[sel_cols], train_encoded.Is_Lead, LGBMClassifier, params)"
   ]
  },
  {
   "cell_type": "code",
   "execution_count": 49,
   "id": "d6d89829-4ce4-4e90-92a4-ff64bdf6b875",
   "metadata": {},
   "outputs": [
    {
     "name": "stdout",
     "output_type": "stream",
     "text": [
      "LGBM - Accuracy  0.8602746973242446\n",
      "LGBM - ROC AUC  0.8735506751185225\n",
      "\n",
      "LGBM - Confusion Matrix\n",
      " [[180971   6466]\n",
      " [ 27868  30420]]\n"
     ]
    }
   ],
   "source": [
    "train_lgbm_pred = lgbm_model.predict(train_encoded[sel_cols])\n",
    "train_lgbm_prob = lgbm_model.predict_proba(train_encoded[sel_cols])\n",
    "print(\"LGBM - Accuracy \", accuracy_score(train_encoded.Is_Lead, train_lgbm_pred))\n",
    "print(\"LGBM - ROC AUC \", roc_auc_score(train_encoded.Is_Lead, train_lgbm_prob[:,1]))\n",
    "print(\"\\nLGBM - Confusion Matrix\\n\", confusion_matrix(train_encoded.Is_Lead, train_lgbm_pred))"
   ]
  },
  {
   "cell_type": "code",
   "execution_count": 50,
   "id": "2d95e44b-bf9e-4ef6-be99-7f882797cb48",
   "metadata": {},
   "outputs": [
    {
     "name": "stdout",
     "output_type": "stream",
     "text": [
      "CNB - Accuracy  0.8098443381829281\n",
      "CNB - ROC AUC  0.7554780425620942\n",
      "CNB - ROC AUC  0.8352426694443357\n",
      "\n",
      "CNB - Confusion Matrix\n",
      " [[160993  26444]\n",
      " [ 20282  38006]]\n"
     ]
    }
   ],
   "source": [
    "cnb = CategoricalNB()\n",
    "clf_cnb = cnb.fit(train_encoded[sel_cols], train_encoded.Is_Lead)\n",
    "train_cnb_pred = clf_cnb.predict(train_encoded[sel_cols])\n",
    "train_cnb_pred_prob = clf_cnb.predict_proba(train_encoded[sel_cols])\n",
    "\n",
    "print(\"CNB - Accuracy \", accuracy_score(train_encoded.Is_Lead, train_cnb_pred))\n",
    "print(\"CNB - ROC AUC \", roc_auc_score(train_encoded.Is_Lead, train_cnb_pred_prob[:,1]))\n",
    "print(\"\\nCNB - Confusion Matrix\\n\", confusion_matrix(train_encoded.Is_Lead, train_cnb_pred))"
   ]
  },
  {
   "cell_type": "code",
   "execution_count": 51,
   "id": "6bd7c686-e0fe-40d7-a6f9-35940df93334",
   "metadata": {},
   "outputs": [
    {
     "name": "stdout",
     "output_type": "stream",
     "text": [
      "Combined - ROC AUC  0.8623644970824206\n"
     ]
    }
   ],
   "source": [
    "combine_prob = (train_lgbm_prob[:,1] + train_cnb_pred_prob[:,1]) / 2\n",
    "print(\"Combined - ROC AUC \", roc_auc_score(train_encoded.Is_Lead, combine_prob))"
   ]
  },
  {
   "cell_type": "code",
   "execution_count": 70,
   "id": "44cbbe1f-8377-4001-ba70-e87934824882",
   "metadata": {},
   "outputs": [
    {
     "ename": "IndexError",
     "evalue": "index 999999 is out of bounds for axis 1 with size 3",
     "output_type": "error",
     "traceback": [
      "\u001b[0;31m---------------------------------------------------------------------------\u001b[0m",
      "\u001b[0;31mIndexError\u001b[0m                                Traceback (most recent call last)",
      "\u001b[0;32m<ipython-input-70-53257abc6c46>\u001b[0m in \u001b[0;36m<module>\u001b[0;34m\u001b[0m\n\u001b[0;32m----> 1\u001b[0;31m \u001b[0mtest_cnb_prob\u001b[0m \u001b[0;34m=\u001b[0m \u001b[0mclf_cnb\u001b[0m\u001b[0;34m.\u001b[0m\u001b[0mpredict_proba\u001b[0m\u001b[0;34m(\u001b[0m\u001b[0mtest_encoded\u001b[0m\u001b[0;34m[\u001b[0m\u001b[0msel_cols\u001b[0m\u001b[0;34m]\u001b[0m\u001b[0;34m)\u001b[0m\u001b[0;34m[\u001b[0m\u001b[0;34m:\u001b[0m\u001b[0;34m,\u001b[0m\u001b[0;36m1\u001b[0m\u001b[0;34m]\u001b[0m\u001b[0;34m\u001b[0m\u001b[0;34m\u001b[0m\u001b[0m\n\u001b[0m",
      "\u001b[0;32m~/.pyenv/versions/ml-modeling-env/lib/python3.7/site-packages/sklearn/naive_bayes.py\u001b[0m in \u001b[0;36mpredict_proba\u001b[0;34m(self, X)\u001b[0m\n\u001b[1;32m    113\u001b[0m             \u001b[0morder\u001b[0m\u001b[0;34m,\u001b[0m \u001b[0;32mas\u001b[0m \u001b[0mthey\u001b[0m \u001b[0mappear\u001b[0m \u001b[0;32min\u001b[0m \u001b[0mthe\u001b[0m \u001b[0mattribute\u001b[0m \u001b[0;34m:\u001b[0m\u001b[0mterm\u001b[0m\u001b[0;34m:\u001b[0m\u001b[0;31m`\u001b[0m\u001b[0mclasses_\u001b[0m\u001b[0;31m`\u001b[0m\u001b[0;34m.\u001b[0m\u001b[0;34m\u001b[0m\u001b[0;34m\u001b[0m\u001b[0m\n\u001b[1;32m    114\u001b[0m         \"\"\"\n\u001b[0;32m--> 115\u001b[0;31m         \u001b[0;32mreturn\u001b[0m \u001b[0mnp\u001b[0m\u001b[0;34m.\u001b[0m\u001b[0mexp\u001b[0m\u001b[0;34m(\u001b[0m\u001b[0mself\u001b[0m\u001b[0;34m.\u001b[0m\u001b[0mpredict_log_proba\u001b[0m\u001b[0;34m(\u001b[0m\u001b[0mX\u001b[0m\u001b[0;34m)\u001b[0m\u001b[0;34m)\u001b[0m\u001b[0;34m\u001b[0m\u001b[0;34m\u001b[0m\u001b[0m\n\u001b[0m\u001b[1;32m    116\u001b[0m \u001b[0;34m\u001b[0m\u001b[0m\n\u001b[1;32m    117\u001b[0m \u001b[0;34m\u001b[0m\u001b[0m\n",
      "\u001b[0;32m~/.pyenv/versions/ml-modeling-env/lib/python3.7/site-packages/sklearn/naive_bayes.py\u001b[0m in \u001b[0;36mpredict_log_proba\u001b[0;34m(self, X)\u001b[0m\n\u001b[1;32m     93\u001b[0m         \u001b[0mcheck_is_fitted\u001b[0m\u001b[0;34m(\u001b[0m\u001b[0mself\u001b[0m\u001b[0;34m)\u001b[0m\u001b[0;34m\u001b[0m\u001b[0;34m\u001b[0m\u001b[0m\n\u001b[1;32m     94\u001b[0m         \u001b[0mX\u001b[0m \u001b[0;34m=\u001b[0m \u001b[0mself\u001b[0m\u001b[0;34m.\u001b[0m\u001b[0m_check_X\u001b[0m\u001b[0;34m(\u001b[0m\u001b[0mX\u001b[0m\u001b[0;34m)\u001b[0m\u001b[0;34m\u001b[0m\u001b[0;34m\u001b[0m\u001b[0m\n\u001b[0;32m---> 95\u001b[0;31m         \u001b[0mjll\u001b[0m \u001b[0;34m=\u001b[0m \u001b[0mself\u001b[0m\u001b[0;34m.\u001b[0m\u001b[0m_joint_log_likelihood\u001b[0m\u001b[0;34m(\u001b[0m\u001b[0mX\u001b[0m\u001b[0;34m)\u001b[0m\u001b[0;34m\u001b[0m\u001b[0;34m\u001b[0m\u001b[0m\n\u001b[0m\u001b[1;32m     96\u001b[0m         \u001b[0;31m# normalize by P(x) = P(f_1, ..., f_n)\u001b[0m\u001b[0;34m\u001b[0m\u001b[0;34m\u001b[0m\u001b[0;34m\u001b[0m\u001b[0m\n\u001b[1;32m     97\u001b[0m         \u001b[0mlog_prob_x\u001b[0m \u001b[0;34m=\u001b[0m \u001b[0mlogsumexp\u001b[0m\u001b[0;34m(\u001b[0m\u001b[0mjll\u001b[0m\u001b[0;34m,\u001b[0m \u001b[0maxis\u001b[0m\u001b[0;34m=\u001b[0m\u001b[0;36m1\u001b[0m\u001b[0;34m)\u001b[0m\u001b[0;34m\u001b[0m\u001b[0;34m\u001b[0m\u001b[0m\n",
      "\u001b[0;32m~/.pyenv/versions/ml-modeling-env/lib/python3.7/site-packages/sklearn/naive_bayes.py\u001b[0m in \u001b[0;36m_joint_log_likelihood\u001b[0;34m(self, X)\u001b[0m\n\u001b[1;32m   1301\u001b[0m         \u001b[0;32mfor\u001b[0m \u001b[0mi\u001b[0m \u001b[0;32min\u001b[0m \u001b[0mrange\u001b[0m\u001b[0;34m(\u001b[0m\u001b[0mself\u001b[0m\u001b[0;34m.\u001b[0m\u001b[0mn_features_\u001b[0m\u001b[0;34m)\u001b[0m\u001b[0;34m:\u001b[0m\u001b[0;34m\u001b[0m\u001b[0;34m\u001b[0m\u001b[0m\n\u001b[1;32m   1302\u001b[0m             \u001b[0mindices\u001b[0m \u001b[0;34m=\u001b[0m \u001b[0mX\u001b[0m\u001b[0;34m[\u001b[0m\u001b[0;34m:\u001b[0m\u001b[0;34m,\u001b[0m \u001b[0mi\u001b[0m\u001b[0;34m]\u001b[0m\u001b[0;34m\u001b[0m\u001b[0;34m\u001b[0m\u001b[0m\n\u001b[0;32m-> 1303\u001b[0;31m             \u001b[0mjll\u001b[0m \u001b[0;34m+=\u001b[0m \u001b[0mself\u001b[0m\u001b[0;34m.\u001b[0m\u001b[0mfeature_log_prob_\u001b[0m\u001b[0;34m[\u001b[0m\u001b[0mi\u001b[0m\u001b[0;34m]\u001b[0m\u001b[0;34m[\u001b[0m\u001b[0;34m:\u001b[0m\u001b[0;34m,\u001b[0m \u001b[0mindices\u001b[0m\u001b[0;34m]\u001b[0m\u001b[0;34m.\u001b[0m\u001b[0mT\u001b[0m\u001b[0;34m\u001b[0m\u001b[0;34m\u001b[0m\u001b[0m\n\u001b[0m\u001b[1;32m   1304\u001b[0m         \u001b[0mtotal_ll\u001b[0m \u001b[0;34m=\u001b[0m \u001b[0mjll\u001b[0m \u001b[0;34m+\u001b[0m \u001b[0mself\u001b[0m\u001b[0;34m.\u001b[0m\u001b[0mclass_log_prior_\u001b[0m\u001b[0;34m\u001b[0m\u001b[0;34m\u001b[0m\u001b[0m\n\u001b[1;32m   1305\u001b[0m         \u001b[0;32mreturn\u001b[0m \u001b[0mtotal_ll\u001b[0m\u001b[0;34m\u001b[0m\u001b[0;34m\u001b[0m\u001b[0m\n",
      "\u001b[0;31mIndexError\u001b[0m: index 999999 is out of bounds for axis 1 with size 3"
     ]
    }
   ],
   "source": [
    "test_cnb_prob = clf_cnb.predict_proba(test_encoded[sel_cols])[:,1]"
   ]
  },
  {
   "cell_type": "code",
   "execution_count": 69,
   "id": "67873052-0df3-436e-84fd-bae8ae3d496a",
   "metadata": {},
   "outputs": [
    {
     "ename": "IndexError",
     "evalue": "index 999999 is out of bounds for axis 1 with size 3",
     "output_type": "error",
     "traceback": [
      "\u001b[0;31m---------------------------------------------------------------------------\u001b[0m",
      "\u001b[0;31mIndexError\u001b[0m                                Traceback (most recent call last)",
      "\u001b[0;32m<ipython-input-69-1408ba18a680>\u001b[0m in \u001b[0;36m<module>\u001b[0;34m\u001b[0m\n\u001b[1;32m      1\u001b[0m \u001b[0mtest_lgbm_prob\u001b[0m \u001b[0;34m=\u001b[0m \u001b[0mlgbm_model\u001b[0m\u001b[0;34m.\u001b[0m\u001b[0mpredict_proba\u001b[0m\u001b[0;34m(\u001b[0m\u001b[0mtest_encoded\u001b[0m\u001b[0;34m[\u001b[0m\u001b[0msel_cols\u001b[0m\u001b[0;34m]\u001b[0m\u001b[0;34m)\u001b[0m\u001b[0;34m[\u001b[0m\u001b[0;34m:\u001b[0m\u001b[0;34m,\u001b[0m\u001b[0;36m1\u001b[0m\u001b[0;34m]\u001b[0m\u001b[0;34m\u001b[0m\u001b[0;34m\u001b[0m\u001b[0m\n\u001b[0;32m----> 2\u001b[0;31m \u001b[0mtest_cnb_prob\u001b[0m \u001b[0;34m=\u001b[0m \u001b[0mclf_cnb\u001b[0m\u001b[0;34m.\u001b[0m\u001b[0mpredict_proba\u001b[0m\u001b[0;34m(\u001b[0m\u001b[0mtest_encoded\u001b[0m\u001b[0;34m[\u001b[0m\u001b[0msel_cols\u001b[0m\u001b[0;34m]\u001b[0m\u001b[0;34m)\u001b[0m\u001b[0;34m[\u001b[0m\u001b[0;34m:\u001b[0m\u001b[0;34m,\u001b[0m\u001b[0;36m1\u001b[0m\u001b[0;34m]\u001b[0m\u001b[0;34m\u001b[0m\u001b[0;34m\u001b[0m\u001b[0m\n\u001b[0m\u001b[1;32m      3\u001b[0m \u001b[0mtest\u001b[0m\u001b[0;34m[\u001b[0m\u001b[0;34m\"Is_Lead\"\u001b[0m\u001b[0;34m]\u001b[0m \u001b[0;34m=\u001b[0m \u001b[0;34m(\u001b[0m\u001b[0mtest_lgbm_prob\u001b[0m \u001b[0;34m+\u001b[0m \u001b[0mtest_cnb_prob\u001b[0m\u001b[0;34m)\u001b[0m \u001b[0;34m/\u001b[0m \u001b[0;36m2\u001b[0m\u001b[0;34m\u001b[0m\u001b[0;34m\u001b[0m\u001b[0m\n\u001b[1;32m      4\u001b[0m \u001b[0mprint\u001b[0m\u001b[0;34m(\u001b[0m\u001b[0mtest\u001b[0m\u001b[0;34m.\u001b[0m\u001b[0mhead\u001b[0m\u001b[0;34m(\u001b[0m\u001b[0;34m)\u001b[0m\u001b[0;34m)\u001b[0m\u001b[0;34m\u001b[0m\u001b[0;34m\u001b[0m\u001b[0m\n\u001b[1;32m      5\u001b[0m \u001b[0mtest\u001b[0m\u001b[0;34m[\u001b[0m\u001b[0;34m[\u001b[0m\u001b[0;34m\"ID\"\u001b[0m\u001b[0;34m,\u001b[0m \u001b[0;34m\"Is_Lead\"\u001b[0m\u001b[0;34m]\u001b[0m\u001b[0;34m]\u001b[0m\u001b[0;34m.\u001b[0m\u001b[0mto_csv\u001b[0m\u001b[0;34m(\u001b[0m\u001b[0;34m\"combined_predict_probabilities.csv\"\u001b[0m\u001b[0;34m,\u001b[0m \u001b[0mindex\u001b[0m\u001b[0;34m=\u001b[0m\u001b[0;32mFalse\u001b[0m\u001b[0;34m)\u001b[0m\u001b[0;34m\u001b[0m\u001b[0;34m\u001b[0m\u001b[0m\n",
      "\u001b[0;32m~/.pyenv/versions/ml-modeling-env/lib/python3.7/site-packages/sklearn/naive_bayes.py\u001b[0m in \u001b[0;36mpredict_proba\u001b[0;34m(self, X)\u001b[0m\n\u001b[1;32m    113\u001b[0m             \u001b[0morder\u001b[0m\u001b[0;34m,\u001b[0m \u001b[0;32mas\u001b[0m \u001b[0mthey\u001b[0m \u001b[0mappear\u001b[0m \u001b[0;32min\u001b[0m \u001b[0mthe\u001b[0m \u001b[0mattribute\u001b[0m \u001b[0;34m:\u001b[0m\u001b[0mterm\u001b[0m\u001b[0;34m:\u001b[0m\u001b[0;31m`\u001b[0m\u001b[0mclasses_\u001b[0m\u001b[0;31m`\u001b[0m\u001b[0;34m.\u001b[0m\u001b[0;34m\u001b[0m\u001b[0;34m\u001b[0m\u001b[0m\n\u001b[1;32m    114\u001b[0m         \"\"\"\n\u001b[0;32m--> 115\u001b[0;31m         \u001b[0;32mreturn\u001b[0m \u001b[0mnp\u001b[0m\u001b[0;34m.\u001b[0m\u001b[0mexp\u001b[0m\u001b[0;34m(\u001b[0m\u001b[0mself\u001b[0m\u001b[0;34m.\u001b[0m\u001b[0mpredict_log_proba\u001b[0m\u001b[0;34m(\u001b[0m\u001b[0mX\u001b[0m\u001b[0;34m)\u001b[0m\u001b[0;34m)\u001b[0m\u001b[0;34m\u001b[0m\u001b[0;34m\u001b[0m\u001b[0m\n\u001b[0m\u001b[1;32m    116\u001b[0m \u001b[0;34m\u001b[0m\u001b[0m\n\u001b[1;32m    117\u001b[0m \u001b[0;34m\u001b[0m\u001b[0m\n",
      "\u001b[0;32m~/.pyenv/versions/ml-modeling-env/lib/python3.7/site-packages/sklearn/naive_bayes.py\u001b[0m in \u001b[0;36mpredict_log_proba\u001b[0;34m(self, X)\u001b[0m\n\u001b[1;32m     93\u001b[0m         \u001b[0mcheck_is_fitted\u001b[0m\u001b[0;34m(\u001b[0m\u001b[0mself\u001b[0m\u001b[0;34m)\u001b[0m\u001b[0;34m\u001b[0m\u001b[0;34m\u001b[0m\u001b[0m\n\u001b[1;32m     94\u001b[0m         \u001b[0mX\u001b[0m \u001b[0;34m=\u001b[0m \u001b[0mself\u001b[0m\u001b[0;34m.\u001b[0m\u001b[0m_check_X\u001b[0m\u001b[0;34m(\u001b[0m\u001b[0mX\u001b[0m\u001b[0;34m)\u001b[0m\u001b[0;34m\u001b[0m\u001b[0;34m\u001b[0m\u001b[0m\n\u001b[0;32m---> 95\u001b[0;31m         \u001b[0mjll\u001b[0m \u001b[0;34m=\u001b[0m \u001b[0mself\u001b[0m\u001b[0;34m.\u001b[0m\u001b[0m_joint_log_likelihood\u001b[0m\u001b[0;34m(\u001b[0m\u001b[0mX\u001b[0m\u001b[0;34m)\u001b[0m\u001b[0;34m\u001b[0m\u001b[0;34m\u001b[0m\u001b[0m\n\u001b[0m\u001b[1;32m     96\u001b[0m         \u001b[0;31m# normalize by P(x) = P(f_1, ..., f_n)\u001b[0m\u001b[0;34m\u001b[0m\u001b[0;34m\u001b[0m\u001b[0;34m\u001b[0m\u001b[0m\n\u001b[1;32m     97\u001b[0m         \u001b[0mlog_prob_x\u001b[0m \u001b[0;34m=\u001b[0m \u001b[0mlogsumexp\u001b[0m\u001b[0;34m(\u001b[0m\u001b[0mjll\u001b[0m\u001b[0;34m,\u001b[0m \u001b[0maxis\u001b[0m\u001b[0;34m=\u001b[0m\u001b[0;36m1\u001b[0m\u001b[0;34m)\u001b[0m\u001b[0;34m\u001b[0m\u001b[0;34m\u001b[0m\u001b[0m\n",
      "\u001b[0;32m~/.pyenv/versions/ml-modeling-env/lib/python3.7/site-packages/sklearn/naive_bayes.py\u001b[0m in \u001b[0;36m_joint_log_likelihood\u001b[0;34m(self, X)\u001b[0m\n\u001b[1;32m   1301\u001b[0m         \u001b[0;32mfor\u001b[0m \u001b[0mi\u001b[0m \u001b[0;32min\u001b[0m \u001b[0mrange\u001b[0m\u001b[0;34m(\u001b[0m\u001b[0mself\u001b[0m\u001b[0;34m.\u001b[0m\u001b[0mn_features_\u001b[0m\u001b[0;34m)\u001b[0m\u001b[0;34m:\u001b[0m\u001b[0;34m\u001b[0m\u001b[0;34m\u001b[0m\u001b[0m\n\u001b[1;32m   1302\u001b[0m             \u001b[0mindices\u001b[0m \u001b[0;34m=\u001b[0m \u001b[0mX\u001b[0m\u001b[0;34m[\u001b[0m\u001b[0;34m:\u001b[0m\u001b[0;34m,\u001b[0m \u001b[0mi\u001b[0m\u001b[0;34m]\u001b[0m\u001b[0;34m\u001b[0m\u001b[0;34m\u001b[0m\u001b[0m\n\u001b[0;32m-> 1303\u001b[0;31m             \u001b[0mjll\u001b[0m \u001b[0;34m+=\u001b[0m \u001b[0mself\u001b[0m\u001b[0;34m.\u001b[0m\u001b[0mfeature_log_prob_\u001b[0m\u001b[0;34m[\u001b[0m\u001b[0mi\u001b[0m\u001b[0;34m]\u001b[0m\u001b[0;34m[\u001b[0m\u001b[0;34m:\u001b[0m\u001b[0;34m,\u001b[0m \u001b[0mindices\u001b[0m\u001b[0;34m]\u001b[0m\u001b[0;34m.\u001b[0m\u001b[0mT\u001b[0m\u001b[0;34m\u001b[0m\u001b[0;34m\u001b[0m\u001b[0m\n\u001b[0m\u001b[1;32m   1304\u001b[0m         \u001b[0mtotal_ll\u001b[0m \u001b[0;34m=\u001b[0m \u001b[0mjll\u001b[0m \u001b[0;34m+\u001b[0m \u001b[0mself\u001b[0m\u001b[0;34m.\u001b[0m\u001b[0mclass_log_prior_\u001b[0m\u001b[0;34m\u001b[0m\u001b[0;34m\u001b[0m\u001b[0m\n\u001b[1;32m   1305\u001b[0m         \u001b[0;32mreturn\u001b[0m \u001b[0mtotal_ll\u001b[0m\u001b[0;34m\u001b[0m\u001b[0;34m\u001b[0m\u001b[0m\n",
      "\u001b[0;31mIndexError\u001b[0m: index 999999 is out of bounds for axis 1 with size 3"
     ]
    }
   ],
   "source": [
    "test_lgbm_prob = lgbm_model.predict_proba(test_encoded[sel_cols])[:,1]\n",
    "test_cnb_prob = clf_cnb.predict_proba(test_encoded[sel_cols])[:,1]\n",
    "test[\"Is_Lead\"] = (test_lgbm_prob + test_cnb_prob) / 2\n",
    "print(test.head())\n",
    "test[[\"ID\", \"Is_Lead\"]].to_csv(\"combined_predict_probabilities.csv\", index=False)"
   ]
  },
  {
   "cell_type": "code",
   "execution_count": 56,
   "id": "a50d8c82-b35d-4684-b998-326a0f8d4121",
   "metadata": {},
   "outputs": [
    {
     "name": "stdout",
     "output_type": "stream",
     "text": [
      "Empty DataFrame\n",
      "Columns: [ID, Gender, Age, Region_Code, Occupation, Channel_Code, Vintage, Credit_Product, Avg_Account_Balance, Is_Active]\n",
      "Index: []\n",
      "Empty DataFrame\n",
      "Columns: [ID, Gender, Age, Region_Code, Occupation, Channel_Code, Vintage, Credit_Product, Avg_Account_Balance, Is_Active]\n",
      "Index: []\n",
      "Empty DataFrame\n",
      "Columns: [ID, Gender, Age, Region_Code, Occupation, Channel_Code, Vintage, Credit_Product, Avg_Account_Balance, Is_Active]\n",
      "Index: []\n",
      "Empty DataFrame\n",
      "Columns: [ID, Gender, Age, Region_Code, Occupation, Channel_Code, Vintage, Credit_Product, Avg_Account_Balance, Is_Active]\n",
      "Index: []\n",
      "Empty DataFrame\n",
      "Columns: [ID, Gender, Age, Region_Code, Occupation, Channel_Code, Vintage, Credit_Product, Avg_Account_Balance, Is_Active]\n",
      "Index: []\n",
      "Empty DataFrame\n",
      "Columns: [ID, Gender, Age, Region_Code, Occupation, Channel_Code, Vintage, Credit_Product, Avg_Account_Balance, Is_Active]\n",
      "Index: []\n",
      "Empty DataFrame\n",
      "Columns: [ID, Gender, Age, Region_Code, Occupation, Channel_Code, Vintage, Credit_Product, Avg_Account_Balance, Is_Active]\n",
      "Index: []\n",
      "Empty DataFrame\n",
      "Columns: [ID, Gender, Age, Region_Code, Occupation, Channel_Code, Vintage, Credit_Product, Avg_Account_Balance, Is_Active]\n",
      "Index: []\n",
      "Empty DataFrame\n",
      "Columns: [ID, Gender, Age, Region_Code, Occupation, Channel_Code, Vintage, Credit_Product, Avg_Account_Balance, Is_Active]\n",
      "Index: []\n"
     ]
    }
   ],
   "source": [
    "for col in test_encoded.columns:\n",
    "    print(test.loc[test[col] == 1])"
   ]
  }
 ],
 "metadata": {
  "kernelspec": {
   "display_name": "ml-modeling",
   "language": "python",
   "name": "ml-modeling"
  },
  "language_info": {
   "codemirror_mode": {
    "name": "ipython",
    "version": 3
   },
   "file_extension": ".py",
   "mimetype": "text/x-python",
   "name": "python",
   "nbconvert_exporter": "python",
   "pygments_lexer": "ipython3",
   "version": "3.7.10"
  }
 },
 "nbformat": 4,
 "nbformat_minor": 5
}
