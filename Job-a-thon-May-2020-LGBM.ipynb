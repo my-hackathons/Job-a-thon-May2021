{
 "cells": [
  {
   "cell_type": "code",
   "execution_count": 1,
   "id": "29c0ff02-c7d0-43fe-9453-0d5e4482cca5",
   "metadata": {},
   "outputs": [],
   "source": [
    "import pandas as pd\n",
    "import numpy as np\n",
    "\n",
    "import warnings\n",
    "warnings.filterwarnings('ignore')"
   ]
  },
  {
   "cell_type": "markdown",
   "id": "27291490-c405-4f52-8fb7-69cc5c62e190",
   "metadata": {},
   "source": [
    "## 0. Load Files"
   ]
  },
  {
   "cell_type": "code",
   "execution_count": 2,
   "id": "25c95dfb-ba5d-4f1b-948e-96cbe533f66f",
   "metadata": {},
   "outputs": [],
   "source": [
    "# Load Train & Test files\n",
    "train = pd.read_csv(\"./data/train-file.csv\")\n",
    "test = pd.read_csv(\"./data/test-file.csv\")\n",
    "sample = pd.read_csv(\"./data/sample-submission.csv\")"
   ]
  },
  {
   "cell_type": "code",
   "execution_count": 3,
   "id": "e7bfb7d6-176a-44f8-831c-1bc426e3da21",
   "metadata": {},
   "outputs": [
    {
     "data": {
      "text/html": [
       "<div>\n",
       "<style scoped>\n",
       "    .dataframe tbody tr th:only-of-type {\n",
       "        vertical-align: middle;\n",
       "    }\n",
       "\n",
       "    .dataframe tbody tr th {\n",
       "        vertical-align: top;\n",
       "    }\n",
       "\n",
       "    .dataframe thead th {\n",
       "        text-align: right;\n",
       "    }\n",
       "</style>\n",
       "<table border=\"1\" class=\"dataframe\">\n",
       "  <thead>\n",
       "    <tr style=\"text-align: right;\">\n",
       "      <th></th>\n",
       "      <th>ID</th>\n",
       "      <th>Is_Lead</th>\n",
       "    </tr>\n",
       "  </thead>\n",
       "  <tbody>\n",
       "    <tr>\n",
       "      <th>0</th>\n",
       "      <td>VBENBARO</td>\n",
       "      <td>0</td>\n",
       "    </tr>\n",
       "    <tr>\n",
       "      <th>1</th>\n",
       "      <td>CCMEWNKY</td>\n",
       "      <td>0</td>\n",
       "    </tr>\n",
       "    <tr>\n",
       "      <th>2</th>\n",
       "      <td>VK3KGA9M</td>\n",
       "      <td>0</td>\n",
       "    </tr>\n",
       "    <tr>\n",
       "      <th>3</th>\n",
       "      <td>TT8RPZVC</td>\n",
       "      <td>0</td>\n",
       "    </tr>\n",
       "    <tr>\n",
       "      <th>4</th>\n",
       "      <td>SHQZEYTZ</td>\n",
       "      <td>0</td>\n",
       "    </tr>\n",
       "  </tbody>\n",
       "</table>\n",
       "</div>"
      ],
      "text/plain": [
       "         ID  Is_Lead\n",
       "0  VBENBARO        0\n",
       "1  CCMEWNKY        0\n",
       "2  VK3KGA9M        0\n",
       "3  TT8RPZVC        0\n",
       "4  SHQZEYTZ        0"
      ]
     },
     "execution_count": 3,
     "metadata": {},
     "output_type": "execute_result"
    }
   ],
   "source": [
    "sample.head()"
   ]
  },
  {
   "cell_type": "code",
   "execution_count": 4,
   "id": "80facee7-cf23-4bb7-837a-ceb5504854d6",
   "metadata": {},
   "outputs": [
    {
     "data": {
      "text/html": [
       "<div>\n",
       "<style scoped>\n",
       "    .dataframe tbody tr th:only-of-type {\n",
       "        vertical-align: middle;\n",
       "    }\n",
       "\n",
       "    .dataframe tbody tr th {\n",
       "        vertical-align: top;\n",
       "    }\n",
       "\n",
       "    .dataframe thead th {\n",
       "        text-align: right;\n",
       "    }\n",
       "</style>\n",
       "<table border=\"1\" class=\"dataframe\">\n",
       "  <thead>\n",
       "    <tr style=\"text-align: right;\">\n",
       "      <th></th>\n",
       "      <th>ID</th>\n",
       "      <th>Gender</th>\n",
       "      <th>Age</th>\n",
       "      <th>Region_Code</th>\n",
       "      <th>Occupation</th>\n",
       "      <th>Channel_Code</th>\n",
       "      <th>Vintage</th>\n",
       "      <th>Credit_Product</th>\n",
       "      <th>Avg_Account_Balance</th>\n",
       "      <th>Is_Active</th>\n",
       "      <th>Is_Lead</th>\n",
       "    </tr>\n",
       "  </thead>\n",
       "  <tbody>\n",
       "    <tr>\n",
       "      <th>0</th>\n",
       "      <td>NNVBBKZB</td>\n",
       "      <td>Female</td>\n",
       "      <td>73</td>\n",
       "      <td>RG268</td>\n",
       "      <td>Other</td>\n",
       "      <td>X3</td>\n",
       "      <td>43</td>\n",
       "      <td>No</td>\n",
       "      <td>1045696</td>\n",
       "      <td>No</td>\n",
       "      <td>0</td>\n",
       "    </tr>\n",
       "    <tr>\n",
       "      <th>1</th>\n",
       "      <td>IDD62UNG</td>\n",
       "      <td>Female</td>\n",
       "      <td>30</td>\n",
       "      <td>RG277</td>\n",
       "      <td>Salaried</td>\n",
       "      <td>X1</td>\n",
       "      <td>32</td>\n",
       "      <td>No</td>\n",
       "      <td>581988</td>\n",
       "      <td>No</td>\n",
       "      <td>0</td>\n",
       "    </tr>\n",
       "    <tr>\n",
       "      <th>2</th>\n",
       "      <td>HD3DSEMC</td>\n",
       "      <td>Female</td>\n",
       "      <td>56</td>\n",
       "      <td>RG268</td>\n",
       "      <td>Self_Employed</td>\n",
       "      <td>X3</td>\n",
       "      <td>26</td>\n",
       "      <td>No</td>\n",
       "      <td>1484315</td>\n",
       "      <td>Yes</td>\n",
       "      <td>0</td>\n",
       "    </tr>\n",
       "    <tr>\n",
       "      <th>3</th>\n",
       "      <td>BF3NC7KV</td>\n",
       "      <td>Male</td>\n",
       "      <td>34</td>\n",
       "      <td>RG270</td>\n",
       "      <td>Salaried</td>\n",
       "      <td>X1</td>\n",
       "      <td>19</td>\n",
       "      <td>No</td>\n",
       "      <td>470454</td>\n",
       "      <td>No</td>\n",
       "      <td>0</td>\n",
       "    </tr>\n",
       "    <tr>\n",
       "      <th>4</th>\n",
       "      <td>TEASRWXV</td>\n",
       "      <td>Female</td>\n",
       "      <td>30</td>\n",
       "      <td>RG282</td>\n",
       "      <td>Salaried</td>\n",
       "      <td>X1</td>\n",
       "      <td>33</td>\n",
       "      <td>No</td>\n",
       "      <td>886787</td>\n",
       "      <td>No</td>\n",
       "      <td>0</td>\n",
       "    </tr>\n",
       "  </tbody>\n",
       "</table>\n",
       "</div>"
      ],
      "text/plain": [
       "         ID  Gender  Age Region_Code     Occupation Channel_Code  Vintage  \\\n",
       "0  NNVBBKZB  Female   73       RG268          Other           X3       43   \n",
       "1  IDD62UNG  Female   30       RG277       Salaried           X1       32   \n",
       "2  HD3DSEMC  Female   56       RG268  Self_Employed           X3       26   \n",
       "3  BF3NC7KV    Male   34       RG270       Salaried           X1       19   \n",
       "4  TEASRWXV  Female   30       RG282       Salaried           X1       33   \n",
       "\n",
       "  Credit_Product  Avg_Account_Balance Is_Active  Is_Lead  \n",
       "0             No              1045696        No        0  \n",
       "1             No               581988        No        0  \n",
       "2             No              1484315       Yes        0  \n",
       "3             No               470454        No        0  \n",
       "4             No               886787        No        0  "
      ]
     },
     "execution_count": 4,
     "metadata": {},
     "output_type": "execute_result"
    }
   ],
   "source": [
    "# Check Train file\n",
    "train.head()"
   ]
  },
  {
   "cell_type": "code",
   "execution_count": 5,
   "id": "546b8419-e712-4566-8384-fa8316e5a3ef",
   "metadata": {},
   "outputs": [
    {
     "name": "stdout",
     "output_type": "stream",
     "text": [
      "<class 'pandas.core.frame.DataFrame'>\n",
      "RangeIndex: 245725 entries, 0 to 245724\n",
      "Data columns (total 11 columns):\n",
      " #   Column               Non-Null Count   Dtype \n",
      "---  ------               --------------   ----- \n",
      " 0   ID                   245725 non-null  object\n",
      " 1   Gender               245725 non-null  object\n",
      " 2   Age                  245725 non-null  int64 \n",
      " 3   Region_Code          245725 non-null  object\n",
      " 4   Occupation           245725 non-null  object\n",
      " 5   Channel_Code         245725 non-null  object\n",
      " 6   Vintage              245725 non-null  int64 \n",
      " 7   Credit_Product       216400 non-null  object\n",
      " 8   Avg_Account_Balance  245725 non-null  int64 \n",
      " 9   Is_Active            245725 non-null  object\n",
      " 10  Is_Lead              245725 non-null  int64 \n",
      "dtypes: int64(4), object(7)\n",
      "memory usage: 20.6+ MB\n"
     ]
    }
   ],
   "source": [
    "train.info()"
   ]
  },
  {
   "cell_type": "code",
   "execution_count": 6,
   "id": "5301df90-9934-4f63-9704-2aa151298ca5",
   "metadata": {},
   "outputs": [
    {
     "data": {
      "text/html": [
       "<div>\n",
       "<style scoped>\n",
       "    .dataframe tbody tr th:only-of-type {\n",
       "        vertical-align: middle;\n",
       "    }\n",
       "\n",
       "    .dataframe tbody tr th {\n",
       "        vertical-align: top;\n",
       "    }\n",
       "\n",
       "    .dataframe thead th {\n",
       "        text-align: right;\n",
       "    }\n",
       "</style>\n",
       "<table border=\"1\" class=\"dataframe\">\n",
       "  <thead>\n",
       "    <tr style=\"text-align: right;\">\n",
       "      <th></th>\n",
       "      <th>Age</th>\n",
       "      <th>Vintage</th>\n",
       "      <th>Avg_Account_Balance</th>\n",
       "      <th>Is_Lead</th>\n",
       "    </tr>\n",
       "  </thead>\n",
       "  <tbody>\n",
       "    <tr>\n",
       "      <th>count</th>\n",
       "      <td>245725.000000</td>\n",
       "      <td>245725.000000</td>\n",
       "      <td>2.457250e+05</td>\n",
       "      <td>245725.000000</td>\n",
       "    </tr>\n",
       "    <tr>\n",
       "      <th>mean</th>\n",
       "      <td>43.856307</td>\n",
       "      <td>46.959141</td>\n",
       "      <td>1.128403e+06</td>\n",
       "      <td>0.237208</td>\n",
       "    </tr>\n",
       "    <tr>\n",
       "      <th>std</th>\n",
       "      <td>14.828672</td>\n",
       "      <td>32.353136</td>\n",
       "      <td>8.529364e+05</td>\n",
       "      <td>0.425372</td>\n",
       "    </tr>\n",
       "    <tr>\n",
       "      <th>min</th>\n",
       "      <td>23.000000</td>\n",
       "      <td>7.000000</td>\n",
       "      <td>2.079000e+04</td>\n",
       "      <td>0.000000</td>\n",
       "    </tr>\n",
       "    <tr>\n",
       "      <th>25%</th>\n",
       "      <td>30.000000</td>\n",
       "      <td>20.000000</td>\n",
       "      <td>6.043100e+05</td>\n",
       "      <td>0.000000</td>\n",
       "    </tr>\n",
       "    <tr>\n",
       "      <th>50%</th>\n",
       "      <td>43.000000</td>\n",
       "      <td>32.000000</td>\n",
       "      <td>8.946010e+05</td>\n",
       "      <td>0.000000</td>\n",
       "    </tr>\n",
       "    <tr>\n",
       "      <th>75%</th>\n",
       "      <td>54.000000</td>\n",
       "      <td>73.000000</td>\n",
       "      <td>1.366666e+06</td>\n",
       "      <td>0.000000</td>\n",
       "    </tr>\n",
       "    <tr>\n",
       "      <th>max</th>\n",
       "      <td>85.000000</td>\n",
       "      <td>135.000000</td>\n",
       "      <td>1.035201e+07</td>\n",
       "      <td>1.000000</td>\n",
       "    </tr>\n",
       "  </tbody>\n",
       "</table>\n",
       "</div>"
      ],
      "text/plain": [
       "                 Age        Vintage  Avg_Account_Balance        Is_Lead\n",
       "count  245725.000000  245725.000000         2.457250e+05  245725.000000\n",
       "mean       43.856307      46.959141         1.128403e+06       0.237208\n",
       "std        14.828672      32.353136         8.529364e+05       0.425372\n",
       "min        23.000000       7.000000         2.079000e+04       0.000000\n",
       "25%        30.000000      20.000000         6.043100e+05       0.000000\n",
       "50%        43.000000      32.000000         8.946010e+05       0.000000\n",
       "75%        54.000000      73.000000         1.366666e+06       0.000000\n",
       "max        85.000000     135.000000         1.035201e+07       1.000000"
      ]
     },
     "execution_count": 6,
     "metadata": {},
     "output_type": "execute_result"
    }
   ],
   "source": [
    "train.describe()"
   ]
  },
  {
   "cell_type": "code",
   "execution_count": 7,
   "id": "cffe41a0-ca74-40a8-9719-f3c8dab55dbe",
   "metadata": {},
   "outputs": [
    {
     "name": "stdout",
     "output_type": "stream",
     "text": [
      "<class 'pandas.core.frame.DataFrame'>\n",
      "RangeIndex: 105312 entries, 0 to 105311\n",
      "Data columns (total 10 columns):\n",
      " #   Column               Non-Null Count   Dtype \n",
      "---  ------               --------------   ----- \n",
      " 0   ID                   105312 non-null  object\n",
      " 1   Gender               105312 non-null  object\n",
      " 2   Age                  105312 non-null  int64 \n",
      " 3   Region_Code          105312 non-null  object\n",
      " 4   Occupation           105312 non-null  object\n",
      " 5   Channel_Code         105312 non-null  object\n",
      " 6   Vintage              105312 non-null  int64 \n",
      " 7   Credit_Product       92790 non-null   object\n",
      " 8   Avg_Account_Balance  105312 non-null  int64 \n",
      " 9   Is_Active            105312 non-null  object\n",
      "dtypes: int64(3), object(7)\n",
      "memory usage: 8.0+ MB\n"
     ]
    }
   ],
   "source": [
    "test.info()"
   ]
  },
  {
   "cell_type": "code",
   "execution_count": 8,
   "id": "da9ad972-1cf5-449d-82f8-5282dd45131c",
   "metadata": {},
   "outputs": [
    {
     "data": {
      "text/html": [
       "<div>\n",
       "<style scoped>\n",
       "    .dataframe tbody tr th:only-of-type {\n",
       "        vertical-align: middle;\n",
       "    }\n",
       "\n",
       "    .dataframe tbody tr th {\n",
       "        vertical-align: top;\n",
       "    }\n",
       "\n",
       "    .dataframe thead th {\n",
       "        text-align: right;\n",
       "    }\n",
       "</style>\n",
       "<table border=\"1\" class=\"dataframe\">\n",
       "  <thead>\n",
       "    <tr style=\"text-align: right;\">\n",
       "      <th></th>\n",
       "      <th>Age</th>\n",
       "      <th>Vintage</th>\n",
       "      <th>Avg_Account_Balance</th>\n",
       "    </tr>\n",
       "  </thead>\n",
       "  <tbody>\n",
       "    <tr>\n",
       "      <th>count</th>\n",
       "      <td>105312.000000</td>\n",
       "      <td>105312.000000</td>\n",
       "      <td>1.053120e+05</td>\n",
       "    </tr>\n",
       "    <tr>\n",
       "      <th>mean</th>\n",
       "      <td>43.871002</td>\n",
       "      <td>46.842819</td>\n",
       "      <td>1.134195e+06</td>\n",
       "    </tr>\n",
       "    <tr>\n",
       "      <th>std</th>\n",
       "      <td>14.872890</td>\n",
       "      <td>32.273634</td>\n",
       "      <td>8.662430e+05</td>\n",
       "    </tr>\n",
       "    <tr>\n",
       "      <th>min</th>\n",
       "      <td>24.000000</td>\n",
       "      <td>7.000000</td>\n",
       "      <td>2.259700e+04</td>\n",
       "    </tr>\n",
       "    <tr>\n",
       "      <th>25%</th>\n",
       "      <td>30.000000</td>\n",
       "      <td>20.000000</td>\n",
       "      <td>6.039822e+05</td>\n",
       "    </tr>\n",
       "    <tr>\n",
       "      <th>50%</th>\n",
       "      <td>43.000000</td>\n",
       "      <td>32.000000</td>\n",
       "      <td>8.966345e+05</td>\n",
       "    </tr>\n",
       "    <tr>\n",
       "      <th>75%</th>\n",
       "      <td>54.000000</td>\n",
       "      <td>73.000000</td>\n",
       "      <td>1.371598e+06</td>\n",
       "    </tr>\n",
       "    <tr>\n",
       "      <th>max</th>\n",
       "      <td>85.000000</td>\n",
       "      <td>135.000000</td>\n",
       "      <td>9.908858e+06</td>\n",
       "    </tr>\n",
       "  </tbody>\n",
       "</table>\n",
       "</div>"
      ],
      "text/plain": [
       "                 Age        Vintage  Avg_Account_Balance\n",
       "count  105312.000000  105312.000000         1.053120e+05\n",
       "mean       43.871002      46.842819         1.134195e+06\n",
       "std        14.872890      32.273634         8.662430e+05\n",
       "min        24.000000       7.000000         2.259700e+04\n",
       "25%        30.000000      20.000000         6.039822e+05\n",
       "50%        43.000000      32.000000         8.966345e+05\n",
       "75%        54.000000      73.000000         1.371598e+06\n",
       "max        85.000000     135.000000         9.908858e+06"
      ]
     },
     "execution_count": 8,
     "metadata": {},
     "output_type": "execute_result"
    }
   ],
   "source": [
    "test.describe()"
   ]
  },
  {
   "cell_type": "markdown",
   "id": "00be6e99-f389-4fa7-bbc8-17978e439d7e",
   "metadata": {},
   "source": [
    "#### Key Inferences\n",
    "\n",
    "* There are 2,45,725 records in Train and 1,05,312 records in Test files.\n",
    "* There are 11 Columns in Train file.\n",
    "* The datatypes of all the columns are mathing to their respective values inside. No need to modify the data types."
   ]
  },
  {
   "cell_type": "markdown",
   "id": "2f18f3db-b0a3-4df5-8607-7499b31b4e6a",
   "metadata": {},
   "source": [
    "## 1. Data preprocess"
   ]
  },
  {
   "cell_type": "markdown",
   "id": "0ae19e5a-5cab-4af4-b684-e83cfd12f05c",
   "metadata": {},
   "source": [
    "### 1.1 Check for Single Value and Unique Value Columns"
   ]
  },
  {
   "cell_type": "code",
   "execution_count": 9,
   "id": "db8b67d3-52c6-4912-b0e9-7af9c7ae1791",
   "metadata": {},
   "outputs": [
    {
     "data": {
      "text/html": [
       "<div>\n",
       "<style scoped>\n",
       "    .dataframe tbody tr th:only-of-type {\n",
       "        vertical-align: middle;\n",
       "    }\n",
       "\n",
       "    .dataframe tbody tr th {\n",
       "        vertical-align: top;\n",
       "    }\n",
       "\n",
       "    .dataframe thead th {\n",
       "        text-align: right;\n",
       "    }\n",
       "</style>\n",
       "<table border=\"1\" class=\"dataframe\">\n",
       "  <thead>\n",
       "    <tr style=\"text-align: right;\">\n",
       "      <th></th>\n",
       "      <th>Column</th>\n",
       "      <th>dataType</th>\n",
       "      <th>Unique Count</th>\n",
       "      <th>Unique Values</th>\n",
       "    </tr>\n",
       "  </thead>\n",
       "  <tbody>\n",
       "    <tr>\n",
       "      <th>0</th>\n",
       "      <td>ID</td>\n",
       "      <td>object</td>\n",
       "      <td>245725</td>\n",
       "      <td>&lt;multiple&gt;</td>\n",
       "    </tr>\n",
       "    <tr>\n",
       "      <th>1</th>\n",
       "      <td>Gender</td>\n",
       "      <td>object</td>\n",
       "      <td>2</td>\n",
       "      <td>[Female, Male]</td>\n",
       "    </tr>\n",
       "    <tr>\n",
       "      <th>2</th>\n",
       "      <td>Age</td>\n",
       "      <td>int64</td>\n",
       "      <td>63</td>\n",
       "      <td>&lt;multiple&gt;</td>\n",
       "    </tr>\n",
       "    <tr>\n",
       "      <th>3</th>\n",
       "      <td>Region_Code</td>\n",
       "      <td>object</td>\n",
       "      <td>35</td>\n",
       "      <td>&lt;multiple&gt;</td>\n",
       "    </tr>\n",
       "    <tr>\n",
       "      <th>4</th>\n",
       "      <td>Occupation</td>\n",
       "      <td>object</td>\n",
       "      <td>4</td>\n",
       "      <td>[Other, Salaried, Self_Employed, Entrepreneur]</td>\n",
       "    </tr>\n",
       "    <tr>\n",
       "      <th>5</th>\n",
       "      <td>Channel_Code</td>\n",
       "      <td>object</td>\n",
       "      <td>4</td>\n",
       "      <td>[X3, X1, X2, X4]</td>\n",
       "    </tr>\n",
       "    <tr>\n",
       "      <th>6</th>\n",
       "      <td>Vintage</td>\n",
       "      <td>int64</td>\n",
       "      <td>66</td>\n",
       "      <td>&lt;multiple&gt;</td>\n",
       "    </tr>\n",
       "    <tr>\n",
       "      <th>7</th>\n",
       "      <td>Credit_Product</td>\n",
       "      <td>object</td>\n",
       "      <td>2</td>\n",
       "      <td>[No, nan, Yes]</td>\n",
       "    </tr>\n",
       "    <tr>\n",
       "      <th>8</th>\n",
       "      <td>Avg_Account_Balance</td>\n",
       "      <td>int64</td>\n",
       "      <td>135292</td>\n",
       "      <td>&lt;multiple&gt;</td>\n",
       "    </tr>\n",
       "    <tr>\n",
       "      <th>9</th>\n",
       "      <td>Is_Active</td>\n",
       "      <td>object</td>\n",
       "      <td>2</td>\n",
       "      <td>[No, Yes]</td>\n",
       "    </tr>\n",
       "    <tr>\n",
       "      <th>10</th>\n",
       "      <td>Is_Lead</td>\n",
       "      <td>int64</td>\n",
       "      <td>2</td>\n",
       "      <td>[0, 1]</td>\n",
       "    </tr>\n",
       "  </tbody>\n",
       "</table>\n",
       "</div>"
      ],
      "text/plain": [
       "                 Column dataType  Unique Count  \\\n",
       "0                    ID   object        245725   \n",
       "1                Gender   object             2   \n",
       "2                   Age    int64            63   \n",
       "3           Region_Code   object            35   \n",
       "4            Occupation   object             4   \n",
       "5          Channel_Code   object             4   \n",
       "6               Vintage    int64            66   \n",
       "7        Credit_Product   object             2   \n",
       "8   Avg_Account_Balance    int64        135292   \n",
       "9             Is_Active   object             2   \n",
       "10              Is_Lead    int64             2   \n",
       "\n",
       "                                     Unique Values  \n",
       "0                                       <multiple>  \n",
       "1                                   [Female, Male]  \n",
       "2                                       <multiple>  \n",
       "3                                       <multiple>  \n",
       "4   [Other, Salaried, Self_Employed, Entrepreneur]  \n",
       "5                                 [X3, X1, X2, X4]  \n",
       "6                                       <multiple>  \n",
       "7                                   [No, nan, Yes]  \n",
       "8                                       <multiple>  \n",
       "9                                        [No, Yes]  \n",
       "10                                          [0, 1]  "
      ]
     },
     "execution_count": 9,
     "metadata": {},
     "output_type": "execute_result"
    }
   ],
   "source": [
    "# Print the no of unique values in each column\n",
    "unique_counts = []\n",
    "for col, dtyp in zip(train.columns, train.dtypes):\n",
    "    ucnt = train[col].nunique()\n",
    "    if ucnt > 5:\n",
    "        unique_counts.append({\"Column\": col, \"dataType\": dtyp, \"Unique Count\": ucnt, \"Unique Values\": \"<multiple>\"})\n",
    "    else:\n",
    "        unique_counts.append({\"Column\": col, \"dataType\": dtyp, \"Unique Count\": ucnt, \"Unique Values\": train[col].unique()})\n",
    "    \n",
    "pd.DataFrame(unique_counts)"
   ]
  },
  {
   "cell_type": "markdown",
   "id": "56c1182a-e612-4e76-9033-6e24a45e5658",
   "metadata": {},
   "source": [
    "#### Key Inferences\n",
    "* Column ID is of Object type and has all unique values which is not useful for ML modelling.\n",
    "* Rest all good candidates for further processing.\n",
    "* Train dataset has both Categorical and Numerical columns.\n",
    "* Categorical Columns: Gender, Region_Code, Occupation, Channel_Code, Credit_Product, Is_Active.\n",
    "* Numerical Columns: Age, Vintage, Avg_Account_Balance\n",
    "* Target Column: Is_Lead"
   ]
  },
  {
   "cell_type": "markdown",
   "id": "d72e6230-a70e-4801-9f13-4241048f28aa",
   "metadata": {},
   "source": [
    "### 1.2. Check for missing values"
   ]
  },
  {
   "cell_type": "code",
   "execution_count": 10,
   "id": "ec7de415-812e-4657-a4fa-22643f64ca07",
   "metadata": {},
   "outputs": [
    {
     "data": {
      "text/plain": [
       "ID                         0\n",
       "Gender                     0\n",
       "Age                        0\n",
       "Region_Code                0\n",
       "Occupation                 0\n",
       "Channel_Code               0\n",
       "Vintage                    0\n",
       "Credit_Product         29325\n",
       "Avg_Account_Balance        0\n",
       "Is_Active                  0\n",
       "Is_Lead                    0\n",
       "dtype: int64"
      ]
     },
     "execution_count": 10,
     "metadata": {},
     "output_type": "execute_result"
    }
   ],
   "source": [
    "# Get No of missing values in each Column - Train\n",
    "train.isnull().sum(axis = 0)"
   ]
  },
  {
   "cell_type": "code",
   "execution_count": 11,
   "id": "e52a0387-0b9e-43e9-8201-09fe7a6c398b",
   "metadata": {},
   "outputs": [
    {
     "data": {
      "text/plain": [
       "ID                         0\n",
       "Gender                     0\n",
       "Age                        0\n",
       "Region_Code                0\n",
       "Occupation                 0\n",
       "Channel_Code               0\n",
       "Vintage                    0\n",
       "Credit_Product         12522\n",
       "Avg_Account_Balance        0\n",
       "Is_Active                  0\n",
       "dtype: int64"
      ]
     },
     "execution_count": 11,
     "metadata": {},
     "output_type": "execute_result"
    }
   ],
   "source": [
    "# Get No of missing values in each Column - Test\n",
    "test.isnull().sum(axis = 0)"
   ]
  },
  {
   "cell_type": "markdown",
   "id": "2a074e1e-a07c-42f7-807a-d914620d17d5",
   "metadata": {},
   "source": [
    "#### Key Inferences\n",
    "* Expect Column Credit_Product, rest all the columns are not having any missing values in both Train  & Test datasets.\n",
    "* There are missing values in Credit_Product which is significantly high (11.93%).\n",
    "* Choosing the right missing value will seriously affect the final prediction.\n",
    "* It is highly dangarous to replace all the missing values in Credit_Product to either 'Yes' or 'No'. One way is to replace the missing values based on the majority groups."
   ]
  },
  {
   "cell_type": "code",
   "execution_count": 12,
   "id": "acc9b161-dc08-42ec-814b-d7b6392d2664",
   "metadata": {},
   "outputs": [
    {
     "data": {
      "text/plain": [
       "Credit_Product\n",
       "No         144357\n",
       "Unknown     29325\n",
       "Yes         72043\n",
       "Name: ID, dtype: int64"
      ]
     },
     "execution_count": 12,
     "metadata": {},
     "output_type": "execute_result"
    }
   ],
   "source": [
    "# For time-being lets replace NaN as Unknown\n",
    "train.Credit_Product.fillna(\"Unknown\", inplace=True)\n",
    "test.Credit_Product.fillna(\"Unknown\", inplace=True)\n",
    "train.groupby(\"Credit_Product\")[\"ID\"].count()"
   ]
  },
  {
   "cell_type": "code",
   "execution_count": 13,
   "id": "ad8333b6",
   "metadata": {},
   "outputs": [
    {
     "data": {
      "text/plain": [
       "Credit_Product\n",
       "No         144357\n",
       "Unknown     29325\n",
       "Yes         72043\n",
       "Name: ID, dtype: int64"
      ]
     },
     "execution_count": 13,
     "metadata": {},
     "output_type": "execute_result"
    }
   ],
   "source": [
    "train.groupby(\"Credit_Product\")[\"ID\"].count()"
   ]
  },
  {
   "cell_type": "markdown",
   "id": "feb04293-7ac3-420d-bc35-a39246ba37f6",
   "metadata": {},
   "source": [
    "## 2. Exploratory Data Analysis"
   ]
  },
  {
   "cell_type": "code",
   "execution_count": 14,
   "id": "598669b0-98cc-434e-af93-d883728155f8",
   "metadata": {},
   "outputs": [],
   "source": [
    "import matplotlib.pyplot as plt\n",
    "import seaborn as sns\n",
    "from statsmodels.graphics.mosaicplot import mosaic"
   ]
  },
  {
   "cell_type": "code",
   "execution_count": 15,
   "id": "e2a4e2da-44d2-4dcd-9b1d-1ab3b8d868ed",
   "metadata": {
    "tags": []
   },
   "outputs": [],
   "source": [
    "cat_cols = [\"Gender\", \"Region_Code\", \"Occupation\", \"Channel_Code\", \"Credit_Product\", \"Is_Active\"]\n",
    "num_cols = [\"Age\", \"Vintage\", \"Avg_Account_Balance\"]"
   ]
  },
  {
   "cell_type": "markdown",
   "id": "3101f9c2-5bf6-4cb1-833d-be251fd642ee",
   "metadata": {},
   "source": [
    "### 2.1. Data Distribution"
   ]
  },
  {
   "cell_type": "code",
   "execution_count": 16,
   "id": "b043d2fd-8766-4415-947f-27e92470944f",
   "metadata": {},
   "outputs": [
    {
     "data": {
      "image/png": "[encoded data removed]",
      "text/plain": [
       "<Figure size 1080x1080 with 3 Axes>"
      ]
     },
     "metadata": {
      "needs_background": "light"
     },
     "output_type": "display_data"
    }
   ],
   "source": [
    "# Lets look at the data distribiton of Numerical Columns\n",
    "fig, axs = plt.subplots(nrows=3, figsize=(15,15))\n",
    "for col in num_cols:\n",
    "    sns.histplot(data=train, x=col, hue=\"Is_Lead\", ax=axs[num_cols.index(col)], kde=True)"
   ]
  },
  {
   "cell_type": "markdown",
   "id": "33768fce-4ddb-4d15-8b38-6f82c91e2aaf",
   "metadata": {},
   "source": [
    "#### Key Inferences\n",
    "* The data distribution of Numerical Variables are positively skewed.\n",
    "* So it is important to choose Non-parameteric tools for correlation testing and ML Modeling.\n",
    "* Age & Vintage are having better correlation compaired to Avg_Account_Balance."
   ]
  },
  {
   "cell_type": "code",
   "execution_count": 17,
   "id": "369ff6f8-ef8a-424c-a97a-27aa30b084a3",
   "metadata": {},
   "outputs": [
    {
     "data": {
      "image/png": "[encoded data removed]",
      "text/plain": [
       "<Figure size 864x1440 with 15 Axes>"
      ]
     },
     "metadata": {
      "needs_background": "light"
     },
     "output_type": "display_data"
    }
   ],
   "source": [
    "# Lets look at the data distribiton of Categorical Columns\n",
    "fig, axs = plt.subplots(nrows=5, figsize=(12,20))\n",
    "i = 0\n",
    "for col in cat_cols:\n",
    "    if train[col].nunique() < 5:\n",
    "        mosaic(train, [col, 'Is_Lead'], ax=axs[i], title=col + \" vs Lead\")\n",
    "        i += 1"
   ]
  },
  {
   "cell_type": "markdown",
   "id": "1861758e-a4e3-4e63-aaf2-f88f51ffadf4",
   "metadata": {},
   "source": [
    "#### Key Inferences\n",
    "* The data distribution of categorial columns among their categories are not some.\n",
    "* Channel_code, Occupation are showing high variation with Is_Lead compared to other Categorical values.\n",
    "* Credit_Product chart indicates that the customers having credit products already has shown interests (lead) to get credit card compaired to those not having a credit product previously. "
   ]
  },
  {
   "cell_type": "markdown",
   "id": "7b21ed89-4941-4f79-94f8-157fd5c892f5",
   "metadata": {},
   "source": [
    "### 2.2. Correlation Testing"
   ]
  },
  {
   "cell_type": "code",
   "execution_count": 18,
   "id": "54ab5998-d5a6-4e47-8fd0-37f4a7184ae9",
   "metadata": {},
   "outputs": [
    {
     "data": {
      "text/html": [
       "<div>\n",
       "<style scoped>\n",
       "    .dataframe tbody tr th:only-of-type {\n",
       "        vertical-align: middle;\n",
       "    }\n",
       "\n",
       "    .dataframe tbody tr th {\n",
       "        vertical-align: top;\n",
       "    }\n",
       "\n",
       "    .dataframe thead th {\n",
       "        text-align: right;\n",
       "    }\n",
       "</style>\n",
       "<table border=\"1\" class=\"dataframe\">\n",
       "  <thead>\n",
       "    <tr style=\"text-align: right;\">\n",
       "      <th></th>\n",
       "      <th>Gender</th>\n",
       "      <th>Region_Code</th>\n",
       "      <th>Occupation</th>\n",
       "      <th>Channel_Code</th>\n",
       "      <th>Credit_Product</th>\n",
       "      <th>Is_Active</th>\n",
       "      <th>Age</th>\n",
       "      <th>Vintage</th>\n",
       "      <th>Avg_Account_Balance</th>\n",
       "      <th>Is_Lead</th>\n",
       "    </tr>\n",
       "  </thead>\n",
       "  <tbody>\n",
       "    <tr>\n",
       "      <th>0</th>\n",
       "      <td>0</td>\n",
       "      <td>18</td>\n",
       "      <td>1</td>\n",
       "      <td>2</td>\n",
       "      <td>0</td>\n",
       "      <td>0</td>\n",
       "      <td>73</td>\n",
       "      <td>43</td>\n",
       "      <td>1045696</td>\n",
       "      <td>0</td>\n",
       "    </tr>\n",
       "    <tr>\n",
       "      <th>1</th>\n",
       "      <td>0</td>\n",
       "      <td>27</td>\n",
       "      <td>2</td>\n",
       "      <td>0</td>\n",
       "      <td>0</td>\n",
       "      <td>0</td>\n",
       "      <td>30</td>\n",
       "      <td>32</td>\n",
       "      <td>581988</td>\n",
       "      <td>0</td>\n",
       "    </tr>\n",
       "    <tr>\n",
       "      <th>2</th>\n",
       "      <td>0</td>\n",
       "      <td>18</td>\n",
       "      <td>3</td>\n",
       "      <td>2</td>\n",
       "      <td>0</td>\n",
       "      <td>1</td>\n",
       "      <td>56</td>\n",
       "      <td>26</td>\n",
       "      <td>1484315</td>\n",
       "      <td>0</td>\n",
       "    </tr>\n",
       "    <tr>\n",
       "      <th>3</th>\n",
       "      <td>1</td>\n",
       "      <td>20</td>\n",
       "      <td>2</td>\n",
       "      <td>0</td>\n",
       "      <td>0</td>\n",
       "      <td>0</td>\n",
       "      <td>34</td>\n",
       "      <td>19</td>\n",
       "      <td>470454</td>\n",
       "      <td>0</td>\n",
       "    </tr>\n",
       "    <tr>\n",
       "      <th>4</th>\n",
       "      <td>0</td>\n",
       "      <td>32</td>\n",
       "      <td>2</td>\n",
       "      <td>0</td>\n",
       "      <td>0</td>\n",
       "      <td>0</td>\n",
       "      <td>30</td>\n",
       "      <td>33</td>\n",
       "      <td>886787</td>\n",
       "      <td>0</td>\n",
       "    </tr>\n",
       "  </tbody>\n",
       "</table>\n",
       "</div>"
      ],
      "text/plain": [
       "   Gender  Region_Code  Occupation  Channel_Code  Credit_Product  Is_Active  \\\n",
       "0       0           18           1             2               0          0   \n",
       "1       0           27           2             0               0          0   \n",
       "2       0           18           3             2               0          1   \n",
       "3       1           20           2             0               0          0   \n",
       "4       0           32           2             0               0          0   \n",
       "\n",
       "   Age  Vintage  Avg_Account_Balance  Is_Lead  \n",
       "0   73       43              1045696        0  \n",
       "1   30       32               581988        0  \n",
       "2   56       26              1484315        0  \n",
       "3   34       19               470454        0  \n",
       "4   30       33               886787        0  "
      ]
     },
     "execution_count": 18,
     "metadata": {},
     "output_type": "execute_result"
    }
   ],
   "source": [
    "# It is important to convert the Categorical columns into numerical before Correlation test\n",
    "# Lets convert the Categorical Values into numerical\n",
    "\n",
    "from sklearn.preprocessing import OrdinalEncoder, LabelEncoder\n",
    "from sklearn.compose import ColumnTransformer\n",
    "\n",
    "\n",
    "train_cat = train[cat_cols]\n",
    "train_num = train[num_cols]\n",
    "train_target = train[[\"Is_Lead\"]]\n",
    "\n",
    "# Encoder for Categorical Columns\n",
    "encoder = ColumnTransformer(\n",
    "    transformers=[\n",
    "        ('cat', OrdinalEncoder(dtype = np.int64,handle_unknown=\"use_encoded_value\", unknown_value=999999), cat_cols),\n",
    "    ])\n",
    "\n",
    "_encoded = encoder.fit_transform(train_cat)\n",
    "train_cat_encoded = pd.DataFrame(_encoded, columns=cat_cols)\n",
    "\n",
    "train_encoded = pd.concat([train_cat_encoded, train_num, train_target], axis=1)\n",
    "train_encoded.head()"
   ]
  },
  {
   "cell_type": "code",
   "execution_count": 19,
   "id": "4b251f41",
   "metadata": {},
   "outputs": [
    {
     "data": {
      "text/plain": [
       "array([0, 1, 2])"
      ]
     },
     "execution_count": 19,
     "metadata": {},
     "output_type": "execute_result"
    }
   ],
   "source": [
    "train_encoded.Credit_Product.unique()"
   ]
  },
  {
   "cell_type": "code",
   "execution_count": 20,
   "id": "2375cc56-a6e7-4d8e-a14b-7b56629970b7",
   "metadata": {},
   "outputs": [
    {
     "data": {
      "text/html": [
       "<div>\n",
       "<style scoped>\n",
       "    .dataframe tbody tr th:only-of-type {\n",
       "        vertical-align: middle;\n",
       "    }\n",
       "\n",
       "    .dataframe tbody tr th {\n",
       "        vertical-align: top;\n",
       "    }\n",
       "\n",
       "    .dataframe thead th {\n",
       "        text-align: right;\n",
       "    }\n",
       "</style>\n",
       "<table border=\"1\" class=\"dataframe\">\n",
       "  <thead>\n",
       "    <tr style=\"text-align: right;\">\n",
       "      <th></th>\n",
       "      <th>Gender</th>\n",
       "      <th>Region_Code</th>\n",
       "      <th>Occupation</th>\n",
       "      <th>Channel_Code</th>\n",
       "      <th>Credit_Product</th>\n",
       "      <th>Is_Active</th>\n",
       "      <th>Age</th>\n",
       "      <th>Vintage</th>\n",
       "      <th>Avg_Account_Balance</th>\n",
       "    </tr>\n",
       "  </thead>\n",
       "  <tbody>\n",
       "    <tr>\n",
       "      <th>0</th>\n",
       "      <td>1</td>\n",
       "      <td>4</td>\n",
       "      <td>1</td>\n",
       "      <td>0</td>\n",
       "      <td>2</td>\n",
       "      <td>0</td>\n",
       "      <td>29</td>\n",
       "      <td>25</td>\n",
       "      <td>742366</td>\n",
       "    </tr>\n",
       "    <tr>\n",
       "      <th>1</th>\n",
       "      <td>1</td>\n",
       "      <td>18</td>\n",
       "      <td>1</td>\n",
       "      <td>1</td>\n",
       "      <td>1</td>\n",
       "      <td>0</td>\n",
       "      <td>43</td>\n",
       "      <td>49</td>\n",
       "      <td>925537</td>\n",
       "    </tr>\n",
       "    <tr>\n",
       "      <th>2</th>\n",
       "      <td>1</td>\n",
       "      <td>20</td>\n",
       "      <td>2</td>\n",
       "      <td>0</td>\n",
       "      <td>0</td>\n",
       "      <td>0</td>\n",
       "      <td>31</td>\n",
       "      <td>14</td>\n",
       "      <td>215949</td>\n",
       "    </tr>\n",
       "    <tr>\n",
       "      <th>3</th>\n",
       "      <td>1</td>\n",
       "      <td>22</td>\n",
       "      <td>1</td>\n",
       "      <td>0</td>\n",
       "      <td>0</td>\n",
       "      <td>0</td>\n",
       "      <td>29</td>\n",
       "      <td>33</td>\n",
       "      <td>868070</td>\n",
       "    </tr>\n",
       "    <tr>\n",
       "      <th>4</th>\n",
       "      <td>0</td>\n",
       "      <td>20</td>\n",
       "      <td>1</td>\n",
       "      <td>0</td>\n",
       "      <td>0</td>\n",
       "      <td>0</td>\n",
       "      <td>29</td>\n",
       "      <td>19</td>\n",
       "      <td>657087</td>\n",
       "    </tr>\n",
       "  </tbody>\n",
       "</table>\n",
       "</div>"
      ],
      "text/plain": [
       "   Gender  Region_Code  Occupation  Channel_Code  Credit_Product  Is_Active  \\\n",
       "0       1            4           1             0               2          0   \n",
       "1       1           18           1             1               1          0   \n",
       "2       1           20           2             0               0          0   \n",
       "3       1           22           1             0               0          0   \n",
       "4       0           20           1             0               0          0   \n",
       "\n",
       "   Age  Vintage  Avg_Account_Balance  \n",
       "0   29       25               742366  \n",
       "1   43       49               925537  \n",
       "2   31       14               215949  \n",
       "3   29       33               868070  \n",
       "4   29       19               657087  "
      ]
     },
     "execution_count": 20,
     "metadata": {},
     "output_type": "execute_result"
    }
   ],
   "source": [
    "test_cat = test[cat_cols]\n",
    "test_num = test[num_cols]\n",
    "\n",
    "_encoded2 = encoder.transform(test_cat)\n",
    "test_cat_encoded = pd.DataFrame(_encoded2, columns=cat_cols)\n",
    "\n",
    "test_encoded = pd.concat([test_cat_encoded, test_num], axis=1)\n",
    "test_encoded.head()"
   ]
  },
  {
   "cell_type": "code",
   "execution_count": 21,
   "id": "eaeabf9d-81e5-4e4c-be03-8cb9ece29667",
   "metadata": {},
   "outputs": [
    {
     "data": {
      "text/plain": [
       "<AxesSubplot:>"
      ]
     },
     "execution_count": 21,
     "metadata": {},
     "output_type": "execute_result"
    },
    {
     "data": {
      "image/png": "[encoded data removed]",
      "text/plain": [
       "<Figure size 720x720 with 2 Axes>"
      ]
     },
     "metadata": {
      "needs_background": "light"
     },
     "output_type": "display_data"
    }
   ],
   "source": [
    "# print the Correlation Matrix\n",
    "plt.figure(figsize=(10,10))\n",
    "sns.heatmap(train_encoded.corr(method=\"spearman\"), annot=True)"
   ]
  },
  {
   "cell_type": "markdown",
   "id": "11dacaff",
   "metadata": {},
   "source": [
    "#### Key Inferences\n",
    "* Is_Lead is largely depends on Credit_Product compared to any other feature. \n",
    "* Handling Missing Values for Credit_product will seriouly affect the overall performance."
   ]
  },
  {
   "cell_type": "markdown",
   "id": "2152c579-cddc-41a7-82c8-4b0d12e1b343",
   "metadata": {},
   "source": [
    "## 3. ML Model Building"
   ]
  },
  {
   "cell_type": "code",
   "execution_count": 22,
   "id": "a602294f-2129-47f4-8230-16530471cb5f",
   "metadata": {},
   "outputs": [],
   "source": [
    "from sklearn.naive_bayes import MultinomialNB, CategoricalNB\n",
    "from sklearn.model_selection import train_test_split\n",
    "from sklearn.metrics import accuracy_score, precision_score, recall_score, confusion_matrix, roc_auc_score\n",
    "from sklearn.model_selection import StratifiedKFold"
   ]
  },
  {
   "cell_type": "code",
   "execution_count": 23,
   "id": "2c152ec7-ddd1-4fca-be37-3f1e9ced1d07",
   "metadata": {},
   "outputs": [],
   "source": [
    "from lightgbm import LGBMClassifier"
   ]
  },
  {
   "cell_type": "code",
   "execution_count": 24,
   "id": "0e795190-7fe5-4554-a932-188b7f210f39",
   "metadata": {},
   "outputs": [],
   "source": [
    "def model_cross_validation(X, y, splits, model, params):\n",
    "    kf = StratifiedKFold(n_splits=splits, shuffle=True, random_state=145)\n",
    "    \n",
    "    for step, (train_idx, test_idx) in enumerate(kf.split(X, y)):\n",
    "        print(f\"\\nStep - {step+1}\")\n",
    "        \n",
    "        X_train, y_train = X.iloc[train_idx], y.iloc[train_idx]\n",
    "        X_test, y_test = X.iloc[test_idx], y.iloc[test_idx]\n",
    "        \n",
    "        classifier = model(**params)\n",
    "        classifier.fit(X_train, y_train, \n",
    "                       eval_set=[(X_test, y_test)],\n",
    "                       early_stopping_rounds=100,\n",
    "                       verbose=400)\n",
    "        \n",
    "        pred = classifier.predict(X_test)\n",
    "        prob = classifier.predict_proba(X_test)[:, 1]\n",
    "        print(f\"accuracy : {accuracy_score(y_test, pred)}\")\n",
    "        print(f\"precision : {precision_score(y_test, pred)}\")\n",
    "        print(f\"recall : {recall_score(y_test, pred)}\")\n",
    "        print(f\"roc_auc_score : {roc_auc_score(y_test, prob)}\")\n",
    "        \n",
    "        print(\"=\"*75)\n",
    "    \n",
    "    return classifier"
   ]
  },
  {
   "cell_type": "code",
   "execution_count": 27,
   "id": "999a64a1-b863-4afd-86fa-2cf4d9232910",
   "metadata": {},
   "outputs": [],
   "source": [
    "sel_cols = [\"Gender\", \"Region_Code\", \"Occupation\", \"Channel_Code\", \n",
    "            \"Credit_Product\", \"Is_Active\", \"Age\", \"Vintage\", \"Avg_Account_Balance\"]\n",
    "# sel_cols = ['Gender','Region_Code','Occupation','Channel_Code','Credit_Product','Is_Active']\n",
    "# sel_cols = ['Age','Vintage', 'Occupation', 'Channel_Code','Credit_Product']"
   ]
  },
  {
   "cell_type": "code",
   "execution_count": 28,
   "id": "57d9132e-88b3-4679-8099-f8c4684f6fe9",
   "metadata": {
    "scrolled": true,
    "tags": []
   },
   "outputs": [
    {
     "name": "stdout",
     "output_type": "stream",
     "text": [
      "\n",
      "Step - 1\n",
      "[LightGBM] [Warning] Unknown parameter: eval_metric\n",
      "Training until validation scores don't improve for 100 rounds\n",
      "[400]\tvalid_0's binary_logloss: 0.350891\n",
      "Early stopping, best iteration is:\n",
      "[340]\tvalid_0's binary_logloss: 0.350745\n",
      "accuracy : 0.8595613071257071\n",
      "precision : 0.7985936715218483\n",
      "recall : 0.5455481214616572\n",
      "roc_auc_score : 0.8681407386441891\n",
      "===========================================================================\n",
      "\n",
      "Step - 2\n",
      "[LightGBM] [Warning] Unknown parameter: eval_metric\n",
      "Training until validation scores don't improve for 100 rounds\n",
      "Early stopping, best iteration is:\n",
      "[295]\tvalid_0's binary_logloss: 0.342439\n",
      "accuracy : 0.862857607943678\n",
      "precision : 0.8093081761006289\n",
      "recall : 0.5518956939440728\n",
      "roc_auc_score : 0.8748402325136793\n",
      "===========================================================================\n",
      "\n",
      "Step - 3\n",
      "[LightGBM] [Warning] Unknown parameter: eval_metric\n",
      "Training until validation scores don't improve for 100 rounds\n",
      "Early stopping, best iteration is:\n",
      "[195]\tvalid_0's binary_logloss: 0.343622\n",
      "accuracy : 0.8605786839213772\n",
      "precision : 0.8\n",
      "recall : 0.5496654657745754\n",
      "roc_auc_score : 0.8728489142144518\n",
      "===========================================================================\n",
      "\n",
      "Step - 4\n",
      "[LightGBM] [Warning] Unknown parameter: eval_metric\n",
      "Training until validation scores don't improve for 100 rounds\n",
      "Early stopping, best iteration is:\n",
      "[260]\tvalid_0's binary_logloss: 0.340762\n",
      "accuracy : 0.8625727424408904\n",
      "precision : 0.8083501006036218\n",
      "recall : 0.551381025904958\n",
      "roc_auc_score : 0.8760642486055309\n",
      "===========================================================================\n",
      "\n",
      "Step - 5\n",
      "[LightGBM] [Warning] Unknown parameter: eval_metric\n",
      "Training until validation scores don't improve for 100 rounds\n",
      "Early stopping, best iteration is:\n",
      "[198]\tvalid_0's binary_logloss: 0.344964\n",
      "accuracy : 0.8599275627721483\n",
      "precision : 0.8026883083946234\n",
      "recall : 0.5429747812660833\n",
      "roc_auc_score : 0.8750775132242008\n",
      "===========================================================================\n",
      "\n",
      "Step - 6\n",
      "[LightGBM] [Warning] Unknown parameter: eval_metric\n",
      "Training until validation scores don't improve for 100 rounds\n",
      "Early stopping, best iteration is:\n",
      "[237]\tvalid_0's binary_logloss: 0.348865\n",
      "accuracy : 0.8583753866189159\n",
      "precision : 0.8025773195876289\n",
      "recall : 0.5343170899107755\n",
      "roc_auc_score : 0.8691625291724557\n",
      "===========================================================================\n",
      "\n",
      "Step - 7\n",
      "[LightGBM] [Warning] Unknown parameter: eval_metric\n",
      "Training until validation scores don't improve for 100 rounds\n",
      "Early stopping, best iteration is:\n",
      "[249]\tvalid_0's binary_logloss: 0.335782\n",
      "accuracy : 0.8629334201530197\n",
      "precision : 0.8132959755476312\n",
      "recall : 0.5478723404255319\n",
      "roc_auc_score : 0.8808008999850896\n",
      "===========================================================================\n",
      "\n",
      "Step - 8\n",
      "[LightGBM] [Warning] Unknown parameter: eval_metric\n",
      "Training until validation scores don't improve for 100 rounds\n",
      "Early stopping, best iteration is:\n",
      "[201]\tvalid_0's binary_logloss: 0.341209\n",
      "accuracy : 0.8598811655542894\n",
      "precision : 0.8063687724704673\n",
      "recall : 0.5386858809401269\n",
      "roc_auc_score : 0.8760847522035264\n",
      "===========================================================================\n",
      "\n",
      "Step - 9\n",
      "[LightGBM] [Warning] Unknown parameter: eval_metric\n",
      "Training until validation scores don't improve for 100 rounds\n",
      "Early stopping, best iteration is:\n",
      "[225]\tvalid_0's binary_logloss: 0.343595\n",
      "accuracy : 0.8598811655542894\n",
      "precision : 0.8054275473630312\n",
      "recall : 0.5397152170183565\n",
      "roc_auc_score : 0.8741383928069235\n",
      "===========================================================================\n",
      "\n",
      "Step - 10\n",
      "[LightGBM] [Warning] Unknown parameter: eval_metric\n",
      "Training until validation scores don't improve for 100 rounds\n",
      "Early stopping, best iteration is:\n",
      "[280]\tvalid_0's binary_logloss: 0.344482\n",
      "accuracy : 0.8619973954094091\n",
      "precision : 0.8075176589303733\n",
      "recall : 0.5491507977354606\n",
      "roc_auc_score : 0.8717849688759425\n",
      "===========================================================================\n"
     ]
    }
   ],
   "source": [
    "params = { 'boosting_type': 'gbdt',\n",
    "          'n_estimators': 10000,\n",
    "          'learning_rate': 0.05, \n",
    "          'num_leaves':  25,\n",
    "          'eval_metric': 'auc'\n",
    "         }\n",
    "lgbm_model = model_cross_validation(train_encoded[sel_cols], train_encoded.Is_Lead, 10, LGBMClassifier, params)\n",
    "# lgbm_model = cross_val(train_encoded[sel_cols], train_encoded.Is_Lead, LGBMClassifier, params)"
   ]
  },
  {
   "cell_type": "code",
   "execution_count": 29,
   "id": "d6d89829-4ce4-4e90-92a4-ff64bdf6b875",
   "metadata": {},
   "outputs": [
    {
     "name": "stdout",
     "output_type": "stream",
     "text": [
      "LGBM - Accuracy  0.8628751653270933\n",
      "LGBM - Precision  0.8096653151678461\n",
      "LGBM - Recall  0.5515886631896788\n",
      "LGBM - ROC AUC  0.8811327582003137\n",
      "\n",
      "LGBM - Confusion Matrix\n",
      " [[179879   7558]\n",
      " [ 26137  32151]]\n"
     ]
    }
   ],
   "source": [
    "# Evaluate with Training Dataset\n",
    "train_lgbm_pred = lgbm_model.predict(train_encoded[sel_cols])\n",
    "train_lgbm_prob = lgbm_model.predict_proba(train_encoded[sel_cols])\n",
    "print(\"LGBM - Accuracy \", accuracy_score(train_encoded.Is_Lead, train_lgbm_pred))\n",
    "print(\"LGBM - Precision \", precision_score(train_encoded.Is_Lead, train_lgbm_pred))\n",
    "print(\"LGBM - Recall \", recall_score(train_encoded.Is_Lead, train_lgbm_pred))\n",
    "print(\"LGBM - ROC AUC \", roc_auc_score(train_encoded.Is_Lead, train_lgbm_prob[:,1]))\n",
    "print(\"\\nLGBM - Confusion Matrix\\n\", confusion_matrix(train_encoded.Is_Lead, train_lgbm_pred))"
   ]
  },
  {
   "cell_type": "code",
   "execution_count": 30,
   "id": "0d15f045-dc2f-4e3d-a42f-623a0e9a19dc",
   "metadata": {},
   "outputs": [
    {
     "name": "stdout",
     "output_type": "stream",
     "text": [
      "         ID  Gender  Age Region_Code Occupation Channel_Code  Vintage  \\\n",
      "0  VBENBARO    Male   29       RG254      Other           X1       25   \n",
      "1  CCMEWNKY    Male   43       RG268      Other           X2       49   \n",
      "2  VK3KGA9M    Male   31       RG270   Salaried           X1       14   \n",
      "3  TT8RPZVC    Male   29       RG272      Other           X1       33   \n",
      "4  SHQZEYTZ  Female   29       RG270      Other           X1       19   \n",
      "\n",
      "  Credit_Product  Avg_Account_Balance Is_Active   Is_Lead  \n",
      "0            Yes               742366        No  0.042334  \n",
      "1        Unknown               925537        No  0.859128  \n",
      "2             No               215949        No  0.060985  \n",
      "3             No               868070        No  0.022746  \n",
      "4             No               657087        No  0.022918  \n"
     ]
    }
   ],
   "source": [
    "# Submission for LGBM Model\n",
    "test[\"Is_Lead\"] = lgbm_model.predict_proba(test_encoded[sel_cols])[:,1]\n",
    "print(test.head())\n",
    "test[[\"ID\", \"Is_Lead\"]].to_csv(\"LGBM_Final_predict_probabilities.csv\", index=False)"
   ]
  },
  {
   "cell_type": "code",
   "execution_count": 31,
   "id": "2d95e44b-bf9e-4ef6-be99-7f882797cb48",
   "metadata": {},
   "outputs": [
    {
     "name": "stdout",
     "output_type": "stream",
     "text": [
      "CNB - Accuracy  0.8570149557432089\n",
      "CNB - Precision  0.6946186305330935\n",
      "CNB - Recall  0.7088594564919023\n",
      "CNB - ROC AUC  0.8849188362974836\n",
      "\n",
      "CNB - Confusion Matrix\n",
      " [[169272  18165]\n",
      " [ 16970  41318]]\n"
     ]
    }
   ],
   "source": [
    "cnb = CategoricalNB()\n",
    "clf_cnb = cnb.fit(train_encoded[sel_cols], train_encoded.Is_Lead)\n",
    "train_cnb_pred = clf_cnb.predict(train_encoded[sel_cols])\n",
    "train_cnb_pred_prob = clf_cnb.predict_proba(train_encoded[sel_cols])\n",
    "\n",
    "print(\"CNB - Accuracy \", accuracy_score(train_encoded.Is_Lead, train_cnb_pred))\n",
    "print(\"CNB - Precision \", precision_score(train_encoded.Is_Lead, train_cnb_pred))\n",
    "print(\"CNB - Recall \", recall_score(train_encoded.Is_Lead, train_cnb_pred))\n",
    "print(\"CNB - ROC AUC \", roc_auc_score(train_encoded.Is_Lead, train_cnb_pred_prob[:,1]))\n",
    "print(\"\\nCNB - Confusion Matrix\\n\", confusion_matrix(train_encoded.Is_Lead, train_cnb_pred))"
   ]
  },
  {
   "cell_type": "code",
   "execution_count": 32,
   "id": "e6800677",
   "metadata": {},
   "outputs": [
    {
     "name": "stdout",
     "output_type": "stream",
     "text": [
      "         ID  Gender  Age Region_Code Occupation Channel_Code  Vintage  \\\n",
      "0  VBENBARO    Male   29       RG254      Other           X1       25   \n",
      "1  CCMEWNKY    Male   43       RG268      Other           X2       49   \n",
      "2  VK3KGA9M    Male   31       RG270   Salaried           X1       14   \n",
      "3  TT8RPZVC    Male   29       RG272      Other           X1       33   \n",
      "4  SHQZEYTZ  Female   29       RG270      Other           X1       19   \n",
      "\n",
      "  Credit_Product  Avg_Account_Balance Is_Active   Is_Lead  \n",
      "0            Yes               742366        No  0.005136  \n",
      "1        Unknown               925537        No  0.931597  \n",
      "2             No               215949        No  0.001330  \n",
      "3             No               868070        No  0.000642  \n",
      "4             No               657087        No  0.003265  \n"
     ]
    }
   ],
   "source": [
    "# Submission for LGBM Model\n",
    "test[\"Is_Lead\"] = clf_cnb.predict_proba(test_encoded[sel_cols])[:,1]\n",
    "print(test.head())\n",
    "test[[\"ID\", \"Is_Lead\"]].to_csv(\"CNB_Final_predict_probabilities.csv\", index=False)"
   ]
  },
  {
   "cell_type": "code",
   "execution_count": 33,
   "id": "6bd7c686-e0fe-40d7-a6f9-35940df93334",
   "metadata": {},
   "outputs": [
    {
     "name": "stdout",
     "output_type": "stream",
     "text": [
      "Combined - ROC AUC  0.8932805814280729\n"
     ]
    }
   ],
   "source": [
    "combine_prob = (train_lgbm_prob[:,1] + train_cnb_pred_prob[:,1]) / 2\n",
    "print(\"Combined - ROC AUC \", roc_auc_score(train_encoded.Is_Lead, combine_prob))"
   ]
  },
  {
   "cell_type": "code",
   "execution_count": 34,
   "id": "67873052-0df3-436e-84fd-bae8ae3d496a",
   "metadata": {},
   "outputs": [
    {
     "name": "stdout",
     "output_type": "stream",
     "text": [
      "         ID  Gender  Age Region_Code Occupation Channel_Code  Vintage  \\\n",
      "0  VBENBARO    Male   29       RG254      Other           X1       25   \n",
      "1  CCMEWNKY    Male   43       RG268      Other           X2       49   \n",
      "2  VK3KGA9M    Male   31       RG270   Salaried           X1       14   \n",
      "3  TT8RPZVC    Male   29       RG272      Other           X1       33   \n",
      "4  SHQZEYTZ  Female   29       RG270      Other           X1       19   \n",
      "\n",
      "  Credit_Product  Avg_Account_Balance Is_Active   Is_Lead  \n",
      "0            Yes               742366        No  0.023735  \n",
      "1        Unknown               925537        No  0.895363  \n",
      "2             No               215949        No  0.031157  \n",
      "3             No               868070        No  0.011694  \n",
      "4             No               657087        No  0.013091  \n"
     ]
    }
   ],
   "source": [
    "test_lgbm_prob = lgbm_model.predict_proba(test_encoded[sel_cols])[:,1]\n",
    "test_cnb_prob = clf_cnb.predict_proba(test_encoded[sel_cols])[:,1]\n",
    "test[\"Is_Lead\"] = (test_lgbm_prob + test_cnb_prob) / 2\n",
    "print(test.head())\n",
    "test[[\"ID\", \"Is_Lead\"]].to_csv(\"Combined_predict_probabilities.csv\", index=False)"
   ]
  },
  {
   "cell_type": "code",
   "execution_count": null,
   "id": "a50d8c82-b35d-4684-b998-326a0f8d4121",
   "metadata": {},
   "outputs": [],
   "source": []
  }
 ],
 "metadata": {
  "kernelspec": {
   "display_name": "ml-modeling",
   "language": "python",
   "name": "ml-modeling"
  },
  "language_info": {
   "codemirror_mode": {
    "name": "ipython",
    "version": 3
   },
   "file_extension": ".py",
   "mimetype": "text/x-python",
   "name": "python",
   "nbconvert_exporter": "python",
   "pygments_lexer": "ipython3",
   "version": "3.7.10"
  }
 },
 "nbformat": 4,
 "nbformat_minor": 5
}
